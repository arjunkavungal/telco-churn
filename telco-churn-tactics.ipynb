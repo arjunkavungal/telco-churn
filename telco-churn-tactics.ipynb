{
 "cells": [
  {
   "cell_type": "code",
   "execution_count": 1,
   "id": "f124da9e",
   "metadata": {
    "_cell_guid": "b1076dfc-b9ad-4769-8c92-a6c4dae69d19",
    "_uuid": "8f2839f25d086af736a60e9eeb907d3b93b6e0e5",
    "execution": {
     "iopub.execute_input": "2023-03-26T01:38:03.084598Z",
     "iopub.status.busy": "2023-03-26T01:38:03.084210Z",
     "iopub.status.idle": "2023-03-26T01:38:03.101408Z",
     "shell.execute_reply": "2023-03-26T01:38:03.100206Z"
    },
    "papermill": {
     "duration": 0.04286,
     "end_time": "2023-03-26T01:38:03.103668",
     "exception": false,
     "start_time": "2023-03-26T01:38:03.060808",
     "status": "completed"
    },
    "tags": []
   },
   "outputs": [
    {
     "name": "stdout",
     "output_type": "stream",
     "text": [
      "/kaggle/input/telco-customer-churn/WA_Fn-UseC_-Telco-Customer-Churn.csv\n"
     ]
    }
   ],
   "source": [
    "# This Python 3 environment comes with many helpful analytics libraries installed\n",
    "# It is defined by the kaggle/python Docker image: https://github.com/kaggle/docker-python\n",
    "# For example, here's several helpful packages to load\n",
    "\n",
    "import numpy as np # linear algebra\n",
    "import pandas as pd # data processing, CSV file I/O (e.g. pd.read_csv)\n",
    "\n",
    "# Input data files are available in the read-only \"../input/\" directory\n",
    "# For example, running this (by clicking run or pressing Shift+Enter) will list all files under the input directory\n",
    "\n",
    "import os\n",
    "for dirname, _, filenames in os.walk('/kaggle/input'):\n",
    "    for filename in filenames:\n",
    "        print(os.path.join(dirname, filename))\n",
    "\n",
    "# You can write up to 20GB to the current directory (/kaggle/working/) that gets preserved as output when you create a version using \"Save & Run All\" \n",
    "# You can also write temporary files to /kaggle/temp/, but they won't be saved outside of the current session"
   ]
  },
  {
   "cell_type": "markdown",
   "id": "df041f3c",
   "metadata": {
    "papermill": {
     "duration": 0.020381,
     "end_time": "2023-03-26T01:38:03.146068",
     "exception": false,
     "start_time": "2023-03-26T01:38:03.125687",
     "status": "completed"
    },
    "tags": []
   },
   "source": [
    "# Telecom Customer Churn"
   ]
  },
  {
   "cell_type": "markdown",
   "id": "f74738a5",
   "metadata": {
    "papermill": {
     "duration": 0.020217,
     "end_time": "2023-03-26T01:38:03.186846",
     "exception": false,
     "start_time": "2023-03-26T01:38:03.166629",
     "status": "completed"
    },
    "tags": []
   },
   "source": [
    "* [Tactics](#tactics)\n",
    "    - [Phone Service](#t1)"
   ]
  },
  {
   "cell_type": "code",
   "execution_count": 2,
   "id": "90af82ac",
   "metadata": {
    "execution": {
     "iopub.execute_input": "2023-03-26T01:38:03.230115Z",
     "iopub.status.busy": "2023-03-26T01:38:03.229450Z",
     "iopub.status.idle": "2023-03-26T01:38:03.277800Z",
     "shell.execute_reply": "2023-03-26T01:38:03.276561Z"
    },
    "papermill": {
     "duration": 0.073001,
     "end_time": "2023-03-26T01:38:03.280248",
     "exception": false,
     "start_time": "2023-03-26T01:38:03.207247",
     "status": "completed"
    },
    "tags": []
   },
   "outputs": [],
   "source": [
    "df = pd.read_csv('/kaggle/input/telco-customer-churn/WA_Fn-UseC_-Telco-Customer-Churn.csv')"
   ]
  },
  {
   "cell_type": "code",
   "execution_count": 3,
   "id": "48ad0a0b",
   "metadata": {
    "execution": {
     "iopub.execute_input": "2023-03-26T01:38:03.324660Z",
     "iopub.status.busy": "2023-03-26T01:38:03.324070Z",
     "iopub.status.idle": "2023-03-26T01:38:03.376168Z",
     "shell.execute_reply": "2023-03-26T01:38:03.375085Z"
    },
    "papermill": {
     "duration": 0.076852,
     "end_time": "2023-03-26T01:38:03.378212",
     "exception": false,
     "start_time": "2023-03-26T01:38:03.301360",
     "status": "completed"
    },
    "tags": []
   },
   "outputs": [
    {
     "data": {
      "text/html": [
       "<div>\n",
       "<style scoped>\n",
       "    .dataframe tbody tr th:only-of-type {\n",
       "        vertical-align: middle;\n",
       "    }\n",
       "\n",
       "    .dataframe tbody tr th {\n",
       "        vertical-align: top;\n",
       "    }\n",
       "\n",
       "    .dataframe thead th {\n",
       "        text-align: right;\n",
       "    }\n",
       "</style>\n",
       "<table border=\"1\" class=\"dataframe\">\n",
       "  <thead>\n",
       "    <tr style=\"text-align: right;\">\n",
       "      <th></th>\n",
       "      <th>customerID</th>\n",
       "      <th>gender</th>\n",
       "      <th>SeniorCitizen</th>\n",
       "      <th>Partner</th>\n",
       "      <th>Dependents</th>\n",
       "      <th>tenure</th>\n",
       "      <th>PhoneService</th>\n",
       "      <th>MultipleLines</th>\n",
       "      <th>InternetService</th>\n",
       "      <th>OnlineSecurity</th>\n",
       "      <th>...</th>\n",
       "      <th>DeviceProtection</th>\n",
       "      <th>TechSupport</th>\n",
       "      <th>StreamingTV</th>\n",
       "      <th>StreamingMovies</th>\n",
       "      <th>Contract</th>\n",
       "      <th>PaperlessBilling</th>\n",
       "      <th>PaymentMethod</th>\n",
       "      <th>MonthlyCharges</th>\n",
       "      <th>TotalCharges</th>\n",
       "      <th>Churn</th>\n",
       "    </tr>\n",
       "  </thead>\n",
       "  <tbody>\n",
       "    <tr>\n",
       "      <th>0</th>\n",
       "      <td>7590-VHVEG</td>\n",
       "      <td>Female</td>\n",
       "      <td>0</td>\n",
       "      <td>Yes</td>\n",
       "      <td>No</td>\n",
       "      <td>1</td>\n",
       "      <td>No</td>\n",
       "      <td>No phone service</td>\n",
       "      <td>DSL</td>\n",
       "      <td>No</td>\n",
       "      <td>...</td>\n",
       "      <td>No</td>\n",
       "      <td>No</td>\n",
       "      <td>No</td>\n",
       "      <td>No</td>\n",
       "      <td>Month-to-month</td>\n",
       "      <td>Yes</td>\n",
       "      <td>Electronic check</td>\n",
       "      <td>29.85</td>\n",
       "      <td>29.85</td>\n",
       "      <td>No</td>\n",
       "    </tr>\n",
       "    <tr>\n",
       "      <th>1</th>\n",
       "      <td>5575-GNVDE</td>\n",
       "      <td>Male</td>\n",
       "      <td>0</td>\n",
       "      <td>No</td>\n",
       "      <td>No</td>\n",
       "      <td>34</td>\n",
       "      <td>Yes</td>\n",
       "      <td>No</td>\n",
       "      <td>DSL</td>\n",
       "      <td>Yes</td>\n",
       "      <td>...</td>\n",
       "      <td>Yes</td>\n",
       "      <td>No</td>\n",
       "      <td>No</td>\n",
       "      <td>No</td>\n",
       "      <td>One year</td>\n",
       "      <td>No</td>\n",
       "      <td>Mailed check</td>\n",
       "      <td>56.95</td>\n",
       "      <td>1889.5</td>\n",
       "      <td>No</td>\n",
       "    </tr>\n",
       "    <tr>\n",
       "      <th>2</th>\n",
       "      <td>3668-QPYBK</td>\n",
       "      <td>Male</td>\n",
       "      <td>0</td>\n",
       "      <td>No</td>\n",
       "      <td>No</td>\n",
       "      <td>2</td>\n",
       "      <td>Yes</td>\n",
       "      <td>No</td>\n",
       "      <td>DSL</td>\n",
       "      <td>Yes</td>\n",
       "      <td>...</td>\n",
       "      <td>No</td>\n",
       "      <td>No</td>\n",
       "      <td>No</td>\n",
       "      <td>No</td>\n",
       "      <td>Month-to-month</td>\n",
       "      <td>Yes</td>\n",
       "      <td>Mailed check</td>\n",
       "      <td>53.85</td>\n",
       "      <td>108.15</td>\n",
       "      <td>Yes</td>\n",
       "    </tr>\n",
       "    <tr>\n",
       "      <th>3</th>\n",
       "      <td>7795-CFOCW</td>\n",
       "      <td>Male</td>\n",
       "      <td>0</td>\n",
       "      <td>No</td>\n",
       "      <td>No</td>\n",
       "      <td>45</td>\n",
       "      <td>No</td>\n",
       "      <td>No phone service</td>\n",
       "      <td>DSL</td>\n",
       "      <td>Yes</td>\n",
       "      <td>...</td>\n",
       "      <td>Yes</td>\n",
       "      <td>Yes</td>\n",
       "      <td>No</td>\n",
       "      <td>No</td>\n",
       "      <td>One year</td>\n",
       "      <td>No</td>\n",
       "      <td>Bank transfer (automatic)</td>\n",
       "      <td>42.30</td>\n",
       "      <td>1840.75</td>\n",
       "      <td>No</td>\n",
       "    </tr>\n",
       "    <tr>\n",
       "      <th>4</th>\n",
       "      <td>9237-HQITU</td>\n",
       "      <td>Female</td>\n",
       "      <td>0</td>\n",
       "      <td>No</td>\n",
       "      <td>No</td>\n",
       "      <td>2</td>\n",
       "      <td>Yes</td>\n",
       "      <td>No</td>\n",
       "      <td>Fiber optic</td>\n",
       "      <td>No</td>\n",
       "      <td>...</td>\n",
       "      <td>No</td>\n",
       "      <td>No</td>\n",
       "      <td>No</td>\n",
       "      <td>No</td>\n",
       "      <td>Month-to-month</td>\n",
       "      <td>Yes</td>\n",
       "      <td>Electronic check</td>\n",
       "      <td>70.70</td>\n",
       "      <td>151.65</td>\n",
       "      <td>Yes</td>\n",
       "    </tr>\n",
       "    <tr>\n",
       "      <th>...</th>\n",
       "      <td>...</td>\n",
       "      <td>...</td>\n",
       "      <td>...</td>\n",
       "      <td>...</td>\n",
       "      <td>...</td>\n",
       "      <td>...</td>\n",
       "      <td>...</td>\n",
       "      <td>...</td>\n",
       "      <td>...</td>\n",
       "      <td>...</td>\n",
       "      <td>...</td>\n",
       "      <td>...</td>\n",
       "      <td>...</td>\n",
       "      <td>...</td>\n",
       "      <td>...</td>\n",
       "      <td>...</td>\n",
       "      <td>...</td>\n",
       "      <td>...</td>\n",
       "      <td>...</td>\n",
       "      <td>...</td>\n",
       "      <td>...</td>\n",
       "    </tr>\n",
       "    <tr>\n",
       "      <th>7038</th>\n",
       "      <td>6840-RESVB</td>\n",
       "      <td>Male</td>\n",
       "      <td>0</td>\n",
       "      <td>Yes</td>\n",
       "      <td>Yes</td>\n",
       "      <td>24</td>\n",
       "      <td>Yes</td>\n",
       "      <td>Yes</td>\n",
       "      <td>DSL</td>\n",
       "      <td>Yes</td>\n",
       "      <td>...</td>\n",
       "      <td>Yes</td>\n",
       "      <td>Yes</td>\n",
       "      <td>Yes</td>\n",
       "      <td>Yes</td>\n",
       "      <td>One year</td>\n",
       "      <td>Yes</td>\n",
       "      <td>Mailed check</td>\n",
       "      <td>84.80</td>\n",
       "      <td>1990.5</td>\n",
       "      <td>No</td>\n",
       "    </tr>\n",
       "    <tr>\n",
       "      <th>7039</th>\n",
       "      <td>2234-XADUH</td>\n",
       "      <td>Female</td>\n",
       "      <td>0</td>\n",
       "      <td>Yes</td>\n",
       "      <td>Yes</td>\n",
       "      <td>72</td>\n",
       "      <td>Yes</td>\n",
       "      <td>Yes</td>\n",
       "      <td>Fiber optic</td>\n",
       "      <td>No</td>\n",
       "      <td>...</td>\n",
       "      <td>Yes</td>\n",
       "      <td>No</td>\n",
       "      <td>Yes</td>\n",
       "      <td>Yes</td>\n",
       "      <td>One year</td>\n",
       "      <td>Yes</td>\n",
       "      <td>Credit card (automatic)</td>\n",
       "      <td>103.20</td>\n",
       "      <td>7362.9</td>\n",
       "      <td>No</td>\n",
       "    </tr>\n",
       "    <tr>\n",
       "      <th>7040</th>\n",
       "      <td>4801-JZAZL</td>\n",
       "      <td>Female</td>\n",
       "      <td>0</td>\n",
       "      <td>Yes</td>\n",
       "      <td>Yes</td>\n",
       "      <td>11</td>\n",
       "      <td>No</td>\n",
       "      <td>No phone service</td>\n",
       "      <td>DSL</td>\n",
       "      <td>Yes</td>\n",
       "      <td>...</td>\n",
       "      <td>No</td>\n",
       "      <td>No</td>\n",
       "      <td>No</td>\n",
       "      <td>No</td>\n",
       "      <td>Month-to-month</td>\n",
       "      <td>Yes</td>\n",
       "      <td>Electronic check</td>\n",
       "      <td>29.60</td>\n",
       "      <td>346.45</td>\n",
       "      <td>No</td>\n",
       "    </tr>\n",
       "    <tr>\n",
       "      <th>7041</th>\n",
       "      <td>8361-LTMKD</td>\n",
       "      <td>Male</td>\n",
       "      <td>1</td>\n",
       "      <td>Yes</td>\n",
       "      <td>No</td>\n",
       "      <td>4</td>\n",
       "      <td>Yes</td>\n",
       "      <td>Yes</td>\n",
       "      <td>Fiber optic</td>\n",
       "      <td>No</td>\n",
       "      <td>...</td>\n",
       "      <td>No</td>\n",
       "      <td>No</td>\n",
       "      <td>No</td>\n",
       "      <td>No</td>\n",
       "      <td>Month-to-month</td>\n",
       "      <td>Yes</td>\n",
       "      <td>Mailed check</td>\n",
       "      <td>74.40</td>\n",
       "      <td>306.6</td>\n",
       "      <td>Yes</td>\n",
       "    </tr>\n",
       "    <tr>\n",
       "      <th>7042</th>\n",
       "      <td>3186-AJIEK</td>\n",
       "      <td>Male</td>\n",
       "      <td>0</td>\n",
       "      <td>No</td>\n",
       "      <td>No</td>\n",
       "      <td>66</td>\n",
       "      <td>Yes</td>\n",
       "      <td>No</td>\n",
       "      <td>Fiber optic</td>\n",
       "      <td>Yes</td>\n",
       "      <td>...</td>\n",
       "      <td>Yes</td>\n",
       "      <td>Yes</td>\n",
       "      <td>Yes</td>\n",
       "      <td>Yes</td>\n",
       "      <td>Two year</td>\n",
       "      <td>Yes</td>\n",
       "      <td>Bank transfer (automatic)</td>\n",
       "      <td>105.65</td>\n",
       "      <td>6844.5</td>\n",
       "      <td>No</td>\n",
       "    </tr>\n",
       "  </tbody>\n",
       "</table>\n",
       "<p>7043 rows × 21 columns</p>\n",
       "</div>"
      ],
      "text/plain": [
       "      customerID  gender  SeniorCitizen Partner Dependents  tenure  \\\n",
       "0     7590-VHVEG  Female              0     Yes         No       1   \n",
       "1     5575-GNVDE    Male              0      No         No      34   \n",
       "2     3668-QPYBK    Male              0      No         No       2   \n",
       "3     7795-CFOCW    Male              0      No         No      45   \n",
       "4     9237-HQITU  Female              0      No         No       2   \n",
       "...          ...     ...            ...     ...        ...     ...   \n",
       "7038  6840-RESVB    Male              0     Yes        Yes      24   \n",
       "7039  2234-XADUH  Female              0     Yes        Yes      72   \n",
       "7040  4801-JZAZL  Female              0     Yes        Yes      11   \n",
       "7041  8361-LTMKD    Male              1     Yes         No       4   \n",
       "7042  3186-AJIEK    Male              0      No         No      66   \n",
       "\n",
       "     PhoneService     MultipleLines InternetService OnlineSecurity  ...  \\\n",
       "0              No  No phone service             DSL             No  ...   \n",
       "1             Yes                No             DSL            Yes  ...   \n",
       "2             Yes                No             DSL            Yes  ...   \n",
       "3              No  No phone service             DSL            Yes  ...   \n",
       "4             Yes                No     Fiber optic             No  ...   \n",
       "...           ...               ...             ...            ...  ...   \n",
       "7038          Yes               Yes             DSL            Yes  ...   \n",
       "7039          Yes               Yes     Fiber optic             No  ...   \n",
       "7040           No  No phone service             DSL            Yes  ...   \n",
       "7041          Yes               Yes     Fiber optic             No  ...   \n",
       "7042          Yes                No     Fiber optic            Yes  ...   \n",
       "\n",
       "     DeviceProtection TechSupport StreamingTV StreamingMovies        Contract  \\\n",
       "0                  No          No          No              No  Month-to-month   \n",
       "1                 Yes          No          No              No        One year   \n",
       "2                  No          No          No              No  Month-to-month   \n",
       "3                 Yes         Yes          No              No        One year   \n",
       "4                  No          No          No              No  Month-to-month   \n",
       "...               ...         ...         ...             ...             ...   \n",
       "7038              Yes         Yes         Yes             Yes        One year   \n",
       "7039              Yes          No         Yes             Yes        One year   \n",
       "7040               No          No          No              No  Month-to-month   \n",
       "7041               No          No          No              No  Month-to-month   \n",
       "7042              Yes         Yes         Yes             Yes        Two year   \n",
       "\n",
       "     PaperlessBilling              PaymentMethod MonthlyCharges  TotalCharges  \\\n",
       "0                 Yes           Electronic check          29.85         29.85   \n",
       "1                  No               Mailed check          56.95        1889.5   \n",
       "2                 Yes               Mailed check          53.85        108.15   \n",
       "3                  No  Bank transfer (automatic)          42.30       1840.75   \n",
       "4                 Yes           Electronic check          70.70        151.65   \n",
       "...               ...                        ...            ...           ...   \n",
       "7038              Yes               Mailed check          84.80        1990.5   \n",
       "7039              Yes    Credit card (automatic)         103.20        7362.9   \n",
       "7040              Yes           Electronic check          29.60        346.45   \n",
       "7041              Yes               Mailed check          74.40         306.6   \n",
       "7042              Yes  Bank transfer (automatic)         105.65        6844.5   \n",
       "\n",
       "     Churn  \n",
       "0       No  \n",
       "1       No  \n",
       "2      Yes  \n",
       "3       No  \n",
       "4      Yes  \n",
       "...    ...  \n",
       "7038    No  \n",
       "7039    No  \n",
       "7040    No  \n",
       "7041   Yes  \n",
       "7042    No  \n",
       "\n",
       "[7043 rows x 21 columns]"
      ]
     },
     "execution_count": 3,
     "metadata": {},
     "output_type": "execute_result"
    }
   ],
   "source": [
    "df"
   ]
  },
  {
   "cell_type": "markdown",
   "id": "f3c1ec93",
   "metadata": {
    "papermill": {
     "duration": 0.021848,
     "end_time": "2023-03-26T01:38:03.421619",
     "exception": false,
     "start_time": "2023-03-26T01:38:03.399771",
     "status": "completed"
    },
    "tags": []
   },
   "source": [
    "## Checking for null values"
   ]
  },
  {
   "cell_type": "code",
   "execution_count": 4,
   "id": "019358b1",
   "metadata": {
    "execution": {
     "iopub.execute_input": "2023-03-26T01:38:03.468163Z",
     "iopub.status.busy": "2023-03-26T01:38:03.467712Z",
     "iopub.status.idle": "2023-03-26T01:38:03.497847Z",
     "shell.execute_reply": "2023-03-26T01:38:03.496339Z"
    },
    "papermill": {
     "duration": 0.057356,
     "end_time": "2023-03-26T01:38:03.501124",
     "exception": false,
     "start_time": "2023-03-26T01:38:03.443768",
     "status": "completed"
    },
    "tags": []
   },
   "outputs": [
    {
     "name": "stdout",
     "output_type": "stream",
     "text": [
      "<class 'pandas.core.frame.DataFrame'>\n",
      "RangeIndex: 7043 entries, 0 to 7042\n",
      "Data columns (total 21 columns):\n",
      " #   Column            Non-Null Count  Dtype  \n",
      "---  ------            --------------  -----  \n",
      " 0   customerID        7043 non-null   object \n",
      " 1   gender            7043 non-null   object \n",
      " 2   SeniorCitizen     7043 non-null   int64  \n",
      " 3   Partner           7043 non-null   object \n",
      " 4   Dependents        7043 non-null   object \n",
      " 5   tenure            7043 non-null   int64  \n",
      " 6   PhoneService      7043 non-null   object \n",
      " 7   MultipleLines     7043 non-null   object \n",
      " 8   InternetService   7043 non-null   object \n",
      " 9   OnlineSecurity    7043 non-null   object \n",
      " 10  OnlineBackup      7043 non-null   object \n",
      " 11  DeviceProtection  7043 non-null   object \n",
      " 12  TechSupport       7043 non-null   object \n",
      " 13  StreamingTV       7043 non-null   object \n",
      " 14  StreamingMovies   7043 non-null   object \n",
      " 15  Contract          7043 non-null   object \n",
      " 16  PaperlessBilling  7043 non-null   object \n",
      " 17  PaymentMethod     7043 non-null   object \n",
      " 18  MonthlyCharges    7043 non-null   float64\n",
      " 19  TotalCharges      7043 non-null   object \n",
      " 20  Churn             7043 non-null   object \n",
      "dtypes: float64(1), int64(2), object(18)\n",
      "memory usage: 1.1+ MB\n"
     ]
    }
   ],
   "source": [
    "df.info()"
   ]
  },
  {
   "cell_type": "markdown",
   "id": "8c5d969a",
   "metadata": {
    "papermill": {
     "duration": 0.021581,
     "end_time": "2023-03-26T01:38:03.544483",
     "exception": false,
     "start_time": "2023-03-26T01:38:03.522902",
     "status": "completed"
    },
    "tags": []
   },
   "source": [
    "## EDA"
   ]
  },
  {
   "cell_type": "markdown",
   "id": "b8e284b1",
   "metadata": {
    "papermill": {
     "duration": 0.021489,
     "end_time": "2023-03-26T01:38:03.587699",
     "exception": false,
     "start_time": "2023-03-26T01:38:03.566210",
     "status": "completed"
    },
    "tags": []
   },
   "source": [
    "### Graph EDA"
   ]
  },
  {
   "cell_type": "code",
   "execution_count": 5,
   "id": "3fdff719",
   "metadata": {
    "execution": {
     "iopub.execute_input": "2023-03-26T01:38:03.631972Z",
     "iopub.status.busy": "2023-03-26T01:38:03.631580Z",
     "iopub.status.idle": "2023-03-26T01:38:03.638479Z",
     "shell.execute_reply": "2023-03-26T01:38:03.637267Z"
    },
    "papermill": {
     "duration": 0.031908,
     "end_time": "2023-03-26T01:38:03.640738",
     "exception": false,
     "start_time": "2023-03-26T01:38:03.608830",
     "status": "completed"
    },
    "tags": []
   },
   "outputs": [],
   "source": [
    "def categorical_vs_churn(column):\n",
    "    \"\"\"Make bar graphs comparing percent churn to the value of categorical columns.\n",
    "\n",
    "    Keyword arguments:\n",
    "    column -- the column to be graphed\n",
    "    \"\"\"\n",
    "    table = df.groupby([column])['Churn'].value_counts().unstack().divide(df.groupby([column])['Churn'].value_counts().unstack().sum(axis=1),axis=0)*100\n",
    "    table.plot(kind=\"bar\", stacked=True, title=column + ' vs churn',ylabel=\"Percent churn\")\n",
    "    return table"
   ]
  },
  {
   "cell_type": "markdown",
   "id": "4d9169c3",
   "metadata": {
    "papermill": {
     "duration": 0.021814,
     "end_time": "2023-03-26T01:38:03.683803",
     "exception": false,
     "start_time": "2023-03-26T01:38:03.661989",
     "status": "completed"
    },
    "tags": []
   },
   "source": [
    "### Gender vs Churn"
   ]
  },
  {
   "cell_type": "code",
   "execution_count": 6,
   "id": "db96670a",
   "metadata": {
    "execution": {
     "iopub.execute_input": "2023-03-26T01:38:03.728339Z",
     "iopub.status.busy": "2023-03-26T01:38:03.727941Z",
     "iopub.status.idle": "2023-03-26T01:38:03.991179Z",
     "shell.execute_reply": "2023-03-26T01:38:03.989986Z"
    },
    "papermill": {
     "duration": 0.288211,
     "end_time": "2023-03-26T01:38:03.993492",
     "exception": false,
     "start_time": "2023-03-26T01:38:03.705281",
     "status": "completed"
    },
    "tags": []
   },
   "outputs": [
    {
     "data": {
      "text/html": [
       "<div>\n",
       "<style scoped>\n",
       "    .dataframe tbody tr th:only-of-type {\n",
       "        vertical-align: middle;\n",
       "    }\n",
       "\n",
       "    .dataframe tbody tr th {\n",
       "        vertical-align: top;\n",
       "    }\n",
       "\n",
       "    .dataframe thead th {\n",
       "        text-align: right;\n",
       "    }\n",
       "</style>\n",
       "<table border=\"1\" class=\"dataframe\">\n",
       "  <thead>\n",
       "    <tr style=\"text-align: right;\">\n",
       "      <th>Churn</th>\n",
       "      <th>No</th>\n",
       "      <th>Yes</th>\n",
       "    </tr>\n",
       "    <tr>\n",
       "      <th>gender</th>\n",
       "      <th></th>\n",
       "      <th></th>\n",
       "    </tr>\n",
       "  </thead>\n",
       "  <tbody>\n",
       "    <tr>\n",
       "      <th>Female</th>\n",
       "      <td>73.079128</td>\n",
       "      <td>26.920872</td>\n",
       "    </tr>\n",
       "    <tr>\n",
       "      <th>Male</th>\n",
       "      <td>73.839662</td>\n",
       "      <td>26.160338</td>\n",
       "    </tr>\n",
       "  </tbody>\n",
       "</table>\n",
       "</div>"
      ],
      "text/plain": [
       "Churn          No        Yes\n",
       "gender                      \n",
       "Female  73.079128  26.920872\n",
       "Male    73.839662  26.160338"
      ]
     },
     "execution_count": 6,
     "metadata": {},
     "output_type": "execute_result"
    },
    {
     "data": {
      "image/png": "[encoded data removed]",
      "text/plain": [
       "<Figure size 640x480 with 1 Axes>"
      ]
     },
     "metadata": {},
     "output_type": "display_data"
    }
   ],
   "source": [
    "categorical_vs_churn('gender')"
   ]
  },
  {
   "cell_type": "markdown",
   "id": "ed072580",
   "metadata": {
    "papermill": {
     "duration": 0.021199,
     "end_time": "2023-03-26T01:38:04.036240",
     "exception": false,
     "start_time": "2023-03-26T01:38:04.015041",
     "status": "completed"
    },
    "tags": []
   },
   "source": [
    "The chart does not tell that there is a difference between whether females or males churn more."
   ]
  },
  {
   "cell_type": "markdown",
   "id": "a0e5cde4",
   "metadata": {
    "papermill": {
     "duration": 0.021197,
     "end_time": "2023-03-26T01:38:04.079033",
     "exception": false,
     "start_time": "2023-03-26T01:38:04.057836",
     "status": "completed"
    },
    "tags": []
   },
   "source": [
    "### Senior Citizen vs churn"
   ]
  },
  {
   "cell_type": "code",
   "execution_count": 7,
   "id": "80d4e91a",
   "metadata": {
    "execution": {
     "iopub.execute_input": "2023-03-26T01:38:04.124908Z",
     "iopub.status.busy": "2023-03-26T01:38:04.123788Z",
     "iopub.status.idle": "2023-03-26T01:38:04.296585Z",
     "shell.execute_reply": "2023-03-26T01:38:04.295390Z"
    },
    "papermill": {
     "duration": 0.198363,
     "end_time": "2023-03-26T01:38:04.299081",
     "exception": false,
     "start_time": "2023-03-26T01:38:04.100718",
     "status": "completed"
    },
    "tags": []
   },
   "outputs": [
    {
     "data": {
      "text/html": [
       "<div>\n",
       "<style scoped>\n",
       "    .dataframe tbody tr th:only-of-type {\n",
       "        vertical-align: middle;\n",
       "    }\n",
       "\n",
       "    .dataframe tbody tr th {\n",
       "        vertical-align: top;\n",
       "    }\n",
       "\n",
       "    .dataframe thead th {\n",
       "        text-align: right;\n",
       "    }\n",
       "</style>\n",
       "<table border=\"1\" class=\"dataframe\">\n",
       "  <thead>\n",
       "    <tr style=\"text-align: right;\">\n",
       "      <th>Churn</th>\n",
       "      <th>No</th>\n",
       "      <th>Yes</th>\n",
       "    </tr>\n",
       "    <tr>\n",
       "      <th>SeniorCitizen</th>\n",
       "      <th></th>\n",
       "      <th></th>\n",
       "    </tr>\n",
       "  </thead>\n",
       "  <tbody>\n",
       "    <tr>\n",
       "      <th>0</th>\n",
       "      <td>76.393832</td>\n",
       "      <td>23.606168</td>\n",
       "    </tr>\n",
       "    <tr>\n",
       "      <th>1</th>\n",
       "      <td>58.318739</td>\n",
       "      <td>41.681261</td>\n",
       "    </tr>\n",
       "  </tbody>\n",
       "</table>\n",
       "</div>"
      ],
      "text/plain": [
       "Churn                 No        Yes\n",
       "SeniorCitizen                      \n",
       "0              76.393832  23.606168\n",
       "1              58.318739  41.681261"
      ]
     },
     "execution_count": 7,
     "metadata": {},
     "output_type": "execute_result"
    },
    {
     "data": {
      "image/png": "[encoded data removed]",
      "text/plain": [
       "<Figure size 640x480 with 1 Axes>"
      ]
     },
     "metadata": {},
     "output_type": "display_data"
    }
   ],
   "source": [
    "categorical_vs_churn('SeniorCitizen')"
   ]
  },
  {
   "cell_type": "markdown",
   "id": "68451eac",
   "metadata": {
    "papermill": {
     "duration": 0.026162,
     "end_time": "2023-03-26T01:38:04.351343",
     "exception": false,
     "start_time": "2023-03-26T01:38:04.325181",
     "status": "completed"
    },
    "tags": []
   },
   "source": [
    "The graph shows that senior citizens are more likely to churn."
   ]
  },
  {
   "cell_type": "markdown",
   "id": "90da0164",
   "metadata": {
    "papermill": {
     "duration": 0.026733,
     "end_time": "2023-03-26T01:38:04.404275",
     "exception": false,
     "start_time": "2023-03-26T01:38:04.377542",
     "status": "completed"
    },
    "tags": []
   },
   "source": [
    "### Partner vs Churn"
   ]
  },
  {
   "cell_type": "code",
   "execution_count": 8,
   "id": "0d262588",
   "metadata": {
    "execution": {
     "iopub.execute_input": "2023-03-26T01:38:04.452554Z",
     "iopub.status.busy": "2023-03-26T01:38:04.451132Z",
     "iopub.status.idle": "2023-03-26T01:38:04.625754Z",
     "shell.execute_reply": "2023-03-26T01:38:04.624746Z"
    },
    "papermill": {
     "duration": 0.20117,
     "end_time": "2023-03-26T01:38:04.627831",
     "exception": false,
     "start_time": "2023-03-26T01:38:04.426661",
     "status": "completed"
    },
    "tags": []
   },
   "outputs": [
    {
     "data": {
      "text/html": [
       "<div>\n",
       "<style scoped>\n",
       "    .dataframe tbody tr th:only-of-type {\n",
       "        vertical-align: middle;\n",
       "    }\n",
       "\n",
       "    .dataframe tbody tr th {\n",
       "        vertical-align: top;\n",
       "    }\n",
       "\n",
       "    .dataframe thead th {\n",
       "        text-align: right;\n",
       "    }\n",
       "</style>\n",
       "<table border=\"1\" class=\"dataframe\">\n",
       "  <thead>\n",
       "    <tr style=\"text-align: right;\">\n",
       "      <th>Churn</th>\n",
       "      <th>No</th>\n",
       "      <th>Yes</th>\n",
       "    </tr>\n",
       "    <tr>\n",
       "      <th>Partner</th>\n",
       "      <th></th>\n",
       "      <th></th>\n",
       "    </tr>\n",
       "  </thead>\n",
       "  <tbody>\n",
       "    <tr>\n",
       "      <th>No</th>\n",
       "      <td>67.042021</td>\n",
       "      <td>32.957979</td>\n",
       "    </tr>\n",
       "    <tr>\n",
       "      <th>Yes</th>\n",
       "      <td>80.335097</td>\n",
       "      <td>19.664903</td>\n",
       "    </tr>\n",
       "  </tbody>\n",
       "</table>\n",
       "</div>"
      ],
      "text/plain": [
       "Churn           No        Yes\n",
       "Partner                      \n",
       "No       67.042021  32.957979\n",
       "Yes      80.335097  19.664903"
      ]
     },
     "execution_count": 8,
     "metadata": {},
     "output_type": "execute_result"
    },
    {
     "data": {
      "image/png": "[encoded data removed]",
      "text/plain": [
       "<Figure size 640x480 with 1 Axes>"
      ]
     },
     "metadata": {},
     "output_type": "display_data"
    }
   ],
   "source": [
    "categorical_vs_churn('Partner')"
   ]
  },
  {
   "cell_type": "markdown",
   "id": "ab3e26b8",
   "metadata": {
    "papermill": {
     "duration": 0.022678,
     "end_time": "2023-03-26T01:38:04.674696",
     "exception": false,
     "start_time": "2023-03-26T01:38:04.652018",
     "status": "completed"
    },
    "tags": []
   },
   "source": [
    "People with a partner are less likely to churn."
   ]
  },
  {
   "cell_type": "markdown",
   "id": "27407101",
   "metadata": {
    "papermill": {
     "duration": 0.022173,
     "end_time": "2023-03-26T01:38:04.720665",
     "exception": false,
     "start_time": "2023-03-26T01:38:04.698492",
     "status": "completed"
    },
    "tags": []
   },
   "source": [
    "### Dependents vs Churn"
   ]
  },
  {
   "cell_type": "code",
   "execution_count": 9,
   "id": "23996d22",
   "metadata": {
    "execution": {
     "iopub.execute_input": "2023-03-26T01:38:04.767163Z",
     "iopub.status.busy": "2023-03-26T01:38:04.766763Z",
     "iopub.status.idle": "2023-03-26T01:38:04.948612Z",
     "shell.execute_reply": "2023-03-26T01:38:04.947461Z"
    },
    "papermill": {
     "duration": 0.20795,
     "end_time": "2023-03-26T01:38:04.951135",
     "exception": false,
     "start_time": "2023-03-26T01:38:04.743185",
     "status": "completed"
    },
    "tags": []
   },
   "outputs": [
    {
     "data": {
      "text/html": [
       "<div>\n",
       "<style scoped>\n",
       "    .dataframe tbody tr th:only-of-type {\n",
       "        vertical-align: middle;\n",
       "    }\n",
       "\n",
       "    .dataframe tbody tr th {\n",
       "        vertical-align: top;\n",
       "    }\n",
       "\n",
       "    .dataframe thead th {\n",
       "        text-align: right;\n",
       "    }\n",
       "</style>\n",
       "<table border=\"1\" class=\"dataframe\">\n",
       "  <thead>\n",
       "    <tr style=\"text-align: right;\">\n",
       "      <th>Churn</th>\n",
       "      <th>No</th>\n",
       "      <th>Yes</th>\n",
       "    </tr>\n",
       "    <tr>\n",
       "      <th>Dependents</th>\n",
       "      <th></th>\n",
       "      <th></th>\n",
       "    </tr>\n",
       "  </thead>\n",
       "  <tbody>\n",
       "    <tr>\n",
       "      <th>No</th>\n",
       "      <td>68.720860</td>\n",
       "      <td>31.279140</td>\n",
       "    </tr>\n",
       "    <tr>\n",
       "      <th>Yes</th>\n",
       "      <td>84.549763</td>\n",
       "      <td>15.450237</td>\n",
       "    </tr>\n",
       "  </tbody>\n",
       "</table>\n",
       "</div>"
      ],
      "text/plain": [
       "Churn              No        Yes\n",
       "Dependents                      \n",
       "No          68.720860  31.279140\n",
       "Yes         84.549763  15.450237"
      ]
     },
     "execution_count": 9,
     "metadata": {},
     "output_type": "execute_result"
    },
    {
     "data": {
      "image/png": "[encoded data removed]",
      "text/plain": [
       "<Figure size 640x480 with 1 Axes>"
      ]
     },
     "metadata": {},
     "output_type": "display_data"
    }
   ],
   "source": [
    "categorical_vs_churn('Dependents')"
   ]
  },
  {
   "cell_type": "markdown",
   "id": "53fabec5",
   "metadata": {
    "papermill": {
     "duration": 0.022488,
     "end_time": "2023-03-26T01:38:04.996734",
     "exception": false,
     "start_time": "2023-03-26T01:38:04.974246",
     "status": "completed"
    },
    "tags": []
   },
   "source": [
    "People with dependents are less likely to churn."
   ]
  },
  {
   "cell_type": "markdown",
   "id": "a7a5a2bf",
   "metadata": {
    "papermill": {
     "duration": 0.022834,
     "end_time": "2023-03-26T01:38:05.042574",
     "exception": false,
     "start_time": "2023-03-26T01:38:05.019740",
     "status": "completed"
    },
    "tags": []
   },
   "source": [
    "### Tenure vs Churn"
   ]
  },
  {
   "cell_type": "markdown",
   "id": "a5c1e7b0",
   "metadata": {
    "papermill": {
     "duration": 0.02299,
     "end_time": "2023-03-26T01:38:05.089414",
     "exception": false,
     "start_time": "2023-03-26T01:38:05.066424",
     "status": "completed"
    },
    "tags": []
   },
   "source": [
    "In this section, I will calculate the probability that a customer will churn at each tenure level. I will use the formula \n",
    "$$ P(churn | tenure = x) = \\frac{P(churn \\cap tenure = x)}{P(tenure)} $$\n",
    "for the values x = 0 to 72 months. I will then plot the graph for the correlation between tenure and the probability of churn."
   ]
  },
  {
   "cell_type": "code",
   "execution_count": 10,
   "id": "542a6a2c",
   "metadata": {
    "execution": {
     "iopub.execute_input": "2023-03-26T01:38:05.138310Z",
     "iopub.status.busy": "2023-03-26T01:38:05.137925Z",
     "iopub.status.idle": "2023-03-26T01:38:05.254665Z",
     "shell.execute_reply": "2023-03-26T01:38:05.253487Z"
    },
    "papermill": {
     "duration": 0.144673,
     "end_time": "2023-03-26T01:38:05.257666",
     "exception": false,
     "start_time": "2023-03-26T01:38:05.112993",
     "status": "completed"
    },
    "tags": []
   },
   "outputs": [],
   "source": [
    "tenure_churn = []\n",
    "for i in df.tenure.unique():\n",
    "    tenure_churn.append([i,len(df[(df.tenure == i) & (df.Churn == 'Yes')])/len(df[df.tenure == i])])\n",
    "tenure_churn_table = pd.DataFrame(tenure_churn, columns=['Tenure', 'Churn probability'])"
   ]
  },
  {
   "cell_type": "code",
   "execution_count": 11,
   "id": "d3551b7d",
   "metadata": {
    "execution": {
     "iopub.execute_input": "2023-03-26T01:38:05.306365Z",
     "iopub.status.busy": "2023-03-26T01:38:05.306012Z",
     "iopub.status.idle": "2023-03-26T01:38:05.604712Z",
     "shell.execute_reply": "2023-03-26T01:38:05.603985Z"
    },
    "papermill": {
     "duration": 0.325569,
     "end_time": "2023-03-26T01:38:05.606793",
     "exception": false,
     "start_time": "2023-03-26T01:38:05.281224",
     "status": "completed"
    },
    "tags": []
   },
   "outputs": [
    {
     "data": {
      "text/plain": [
       "<AxesSubplot:title={'center':'Tenure vs Churn'}, xlabel='Tenure', ylabel='Churn probability'>"
      ]
     },
     "execution_count": 11,
     "metadata": {},
     "output_type": "execute_result"
    },
    {
     "data": {
      "image/png": "[encoded data removed]",
      "text/plain": [
       "<Figure size 640x480 with 1 Axes>"
      ]
     },
     "metadata": {},
     "output_type": "display_data"
    }
   ],
   "source": [
    "tenure_churn_table.sort_values(by=['Tenure']).plot(x='Tenure',y='Churn probability',title='Tenure vs Churn',ylabel=\"Churn probability\")"
   ]
  },
  {
   "cell_type": "markdown",
   "id": "dab2a510",
   "metadata": {
    "papermill": {
     "duration": 0.023675,
     "end_time": "2023-03-26T01:38:05.654372",
     "exception": false,
     "start_time": "2023-03-26T01:38:05.630697",
     "status": "completed"
    },
    "tags": []
   },
   "source": [
    "As the customer stays with the provider for longer, the probability that it will churn will decrease. However, the probability that it will churn will go back up and then down."
   ]
  },
  {
   "cell_type": "markdown",
   "id": "6f3e19be",
   "metadata": {
    "papermill": {
     "duration": 0.024583,
     "end_time": "2023-03-26T01:38:05.702633",
     "exception": false,
     "start_time": "2023-03-26T01:38:05.678050",
     "status": "completed"
    },
    "tags": []
   },
   "source": [
    "### Phone service vs churn"
   ]
  },
  {
   "cell_type": "code",
   "execution_count": 12,
   "id": "ca3c6c3b",
   "metadata": {
    "execution": {
     "iopub.execute_input": "2023-03-26T01:38:05.753647Z",
     "iopub.status.busy": "2023-03-26T01:38:05.753272Z",
     "iopub.status.idle": "2023-03-26T01:38:05.925953Z",
     "shell.execute_reply": "2023-03-26T01:38:05.924683Z"
    },
    "papermill": {
     "duration": 0.201254,
     "end_time": "2023-03-26T01:38:05.928650",
     "exception": false,
     "start_time": "2023-03-26T01:38:05.727396",
     "status": "completed"
    },
    "tags": []
   },
   "outputs": [
    {
     "data": {
      "text/html": [
       "<div>\n",
       "<style scoped>\n",
       "    .dataframe tbody tr th:only-of-type {\n",
       "        vertical-align: middle;\n",
       "    }\n",
       "\n",
       "    .dataframe tbody tr th {\n",
       "        vertical-align: top;\n",
       "    }\n",
       "\n",
       "    .dataframe thead th {\n",
       "        text-align: right;\n",
       "    }\n",
       "</style>\n",
       "<table border=\"1\" class=\"dataframe\">\n",
       "  <thead>\n",
       "    <tr style=\"text-align: right;\">\n",
       "      <th>Churn</th>\n",
       "      <th>No</th>\n",
       "      <th>Yes</th>\n",
       "    </tr>\n",
       "    <tr>\n",
       "      <th>PhoneService</th>\n",
       "      <th></th>\n",
       "      <th></th>\n",
       "    </tr>\n",
       "  </thead>\n",
       "  <tbody>\n",
       "    <tr>\n",
       "      <th>No</th>\n",
       "      <td>75.073314</td>\n",
       "      <td>24.926686</td>\n",
       "    </tr>\n",
       "    <tr>\n",
       "      <th>Yes</th>\n",
       "      <td>73.290363</td>\n",
       "      <td>26.709637</td>\n",
       "    </tr>\n",
       "  </tbody>\n",
       "</table>\n",
       "</div>"
      ],
      "text/plain": [
       "Churn                No        Yes\n",
       "PhoneService                      \n",
       "No            75.073314  24.926686\n",
       "Yes           73.290363  26.709637"
      ]
     },
     "execution_count": 12,
     "metadata": {},
     "output_type": "execute_result"
    },
    {
     "data": {
      "image/png": "[encoded data removed]",
      "text/plain": [
       "<Figure size 640x480 with 1 Axes>"
      ]
     },
     "metadata": {},
     "output_type": "display_data"
    }
   ],
   "source": [
    "categorical_vs_churn('PhoneService')"
   ]
  },
  {
   "cell_type": "markdown",
   "id": "4bd14055",
   "metadata": {
    "papermill": {
     "duration": 0.02433,
     "end_time": "2023-03-26T01:38:05.976805",
     "exception": false,
     "start_time": "2023-03-26T01:38:05.952475",
     "status": "completed"
    },
    "tags": []
   },
   "source": [
    "I cannot tell whether there is a difference in churn rate between those with phone service and those without phone service."
   ]
  },
  {
   "cell_type": "markdown",
   "id": "e5ea9ebc",
   "metadata": {
    "papermill": {
     "duration": 0.023935,
     "end_time": "2023-03-26T01:38:06.025586",
     "exception": false,
     "start_time": "2023-03-26T01:38:06.001651",
     "status": "completed"
    },
    "tags": []
   },
   "source": [
    "### Multiple lines vs churn"
   ]
  },
  {
   "cell_type": "code",
   "execution_count": 13,
   "id": "9affd7d9",
   "metadata": {
    "execution": {
     "iopub.execute_input": "2023-03-26T01:38:06.075858Z",
     "iopub.status.busy": "2023-03-26T01:38:06.075471Z",
     "iopub.status.idle": "2023-03-26T01:38:06.270144Z",
     "shell.execute_reply": "2023-03-26T01:38:06.268963Z"
    },
    "papermill": {
     "duration": 0.223077,
     "end_time": "2023-03-26T01:38:06.273014",
     "exception": false,
     "start_time": "2023-03-26T01:38:06.049937",
     "status": "completed"
    },
    "tags": []
   },
   "outputs": [
    {
     "data": {
      "text/html": [
       "<div>\n",
       "<style scoped>\n",
       "    .dataframe tbody tr th:only-of-type {\n",
       "        vertical-align: middle;\n",
       "    }\n",
       "\n",
       "    .dataframe tbody tr th {\n",
       "        vertical-align: top;\n",
       "    }\n",
       "\n",
       "    .dataframe thead th {\n",
       "        text-align: right;\n",
       "    }\n",
       "</style>\n",
       "<table border=\"1\" class=\"dataframe\">\n",
       "  <thead>\n",
       "    <tr style=\"text-align: right;\">\n",
       "      <th>Churn</th>\n",
       "      <th>No</th>\n",
       "      <th>Yes</th>\n",
       "    </tr>\n",
       "    <tr>\n",
       "      <th>MultipleLines</th>\n",
       "      <th></th>\n",
       "      <th></th>\n",
       "    </tr>\n",
       "  </thead>\n",
       "  <tbody>\n",
       "    <tr>\n",
       "      <th>No</th>\n",
       "      <td>74.955752</td>\n",
       "      <td>25.044248</td>\n",
       "    </tr>\n",
       "    <tr>\n",
       "      <th>No phone service</th>\n",
       "      <td>75.073314</td>\n",
       "      <td>24.926686</td>\n",
       "    </tr>\n",
       "    <tr>\n",
       "      <th>Yes</th>\n",
       "      <td>71.390104</td>\n",
       "      <td>28.609896</td>\n",
       "    </tr>\n",
       "  </tbody>\n",
       "</table>\n",
       "</div>"
      ],
      "text/plain": [
       "Churn                    No        Yes\n",
       "MultipleLines                         \n",
       "No                74.955752  25.044248\n",
       "No phone service  75.073314  24.926686\n",
       "Yes               71.390104  28.609896"
      ]
     },
     "execution_count": 13,
     "metadata": {},
     "output_type": "execute_result"
    },
    {
     "data": {
      "image/png": "[encoded data removed]",
      "text/plain": [
       "<Figure size 640x480 with 1 Axes>"
      ]
     },
     "metadata": {},
     "output_type": "display_data"
    }
   ],
   "source": [
    "categorical_vs_churn('MultipleLines')"
   ]
  },
  {
   "cell_type": "markdown",
   "id": "bc7647e3",
   "metadata": {
    "papermill": {
     "duration": 0.025445,
     "end_time": "2023-03-26T01:38:06.323869",
     "exception": false,
     "start_time": "2023-03-26T01:38:06.298424",
     "status": "completed"
    },
    "tags": []
   },
   "source": [
    "Among those with phone service, those with multiple lines are more likely to churn than those with just one line."
   ]
  },
  {
   "cell_type": "markdown",
   "id": "7028ab27",
   "metadata": {
    "papermill": {
     "duration": 0.024906,
     "end_time": "2023-03-26T01:38:06.373539",
     "exception": false,
     "start_time": "2023-03-26T01:38:06.348633",
     "status": "completed"
    },
    "tags": []
   },
   "source": [
    "### Internet Service vs Churn"
   ]
  },
  {
   "cell_type": "code",
   "execution_count": 14,
   "id": "2154c9e7",
   "metadata": {
    "execution": {
     "iopub.execute_input": "2023-03-26T01:38:06.424666Z",
     "iopub.status.busy": "2023-03-26T01:38:06.423459Z",
     "iopub.status.idle": "2023-03-26T01:38:06.611421Z",
     "shell.execute_reply": "2023-03-26T01:38:06.610430Z"
    },
    "papermill": {
     "duration": 0.21529,
     "end_time": "2023-03-26T01:38:06.613414",
     "exception": false,
     "start_time": "2023-03-26T01:38:06.398124",
     "status": "completed"
    },
    "tags": []
   },
   "outputs": [
    {
     "data": {
      "text/html": [
       "<div>\n",
       "<style scoped>\n",
       "    .dataframe tbody tr th:only-of-type {\n",
       "        vertical-align: middle;\n",
       "    }\n",
       "\n",
       "    .dataframe tbody tr th {\n",
       "        vertical-align: top;\n",
       "    }\n",
       "\n",
       "    .dataframe thead th {\n",
       "        text-align: right;\n",
       "    }\n",
       "</style>\n",
       "<table border=\"1\" class=\"dataframe\">\n",
       "  <thead>\n",
       "    <tr style=\"text-align: right;\">\n",
       "      <th>Churn</th>\n",
       "      <th>No</th>\n",
       "      <th>Yes</th>\n",
       "    </tr>\n",
       "    <tr>\n",
       "      <th>InternetService</th>\n",
       "      <th></th>\n",
       "      <th></th>\n",
       "    </tr>\n",
       "  </thead>\n",
       "  <tbody>\n",
       "    <tr>\n",
       "      <th>DSL</th>\n",
       "      <td>81.040892</td>\n",
       "      <td>18.959108</td>\n",
       "    </tr>\n",
       "    <tr>\n",
       "      <th>Fiber optic</th>\n",
       "      <td>58.107235</td>\n",
       "      <td>41.892765</td>\n",
       "    </tr>\n",
       "    <tr>\n",
       "      <th>No</th>\n",
       "      <td>92.595020</td>\n",
       "      <td>7.404980</td>\n",
       "    </tr>\n",
       "  </tbody>\n",
       "</table>\n",
       "</div>"
      ],
      "text/plain": [
       "Churn                   No        Yes\n",
       "InternetService                      \n",
       "DSL              81.040892  18.959108\n",
       "Fiber optic      58.107235  41.892765\n",
       "No               92.595020   7.404980"
      ]
     },
     "execution_count": 14,
     "metadata": {},
     "output_type": "execute_result"
    },
    {
     "data": {
      "image/png": "[encoded data removed]",
      "text/plain": [
       "<Figure size 640x480 with 1 Axes>"
      ]
     },
     "metadata": {},
     "output_type": "display_data"
    }
   ],
   "source": [
    "categorical_vs_churn('InternetService')"
   ]
  },
  {
   "cell_type": "markdown",
   "id": "420d29e2",
   "metadata": {
    "papermill": {
     "duration": 0.024221,
     "end_time": "2023-03-26T01:38:06.662057",
     "exception": false,
     "start_time": "2023-03-26T01:38:06.637836",
     "status": "completed"
    },
    "tags": []
   },
   "source": [
    "People with fiber optic are most likely to churn. People with DSL internet are more likely to churn than those with no internet."
   ]
  },
  {
   "cell_type": "markdown",
   "id": "04c68780",
   "metadata": {
    "papermill": {
     "duration": 0.025636,
     "end_time": "2023-03-26T01:38:06.712670",
     "exception": false,
     "start_time": "2023-03-26T01:38:06.687034",
     "status": "completed"
    },
    "tags": []
   },
   "source": [
    "### Online Security vs churn"
   ]
  },
  {
   "cell_type": "code",
   "execution_count": 15,
   "id": "c1f219fb",
   "metadata": {
    "execution": {
     "iopub.execute_input": "2023-03-26T01:38:06.764303Z",
     "iopub.status.busy": "2023-03-26T01:38:06.763943Z",
     "iopub.status.idle": "2023-03-26T01:38:06.951494Z",
     "shell.execute_reply": "2023-03-26T01:38:06.950555Z"
    },
    "papermill": {
     "duration": 0.215677,
     "end_time": "2023-03-26T01:38:06.953593",
     "exception": false,
     "start_time": "2023-03-26T01:38:06.737916",
     "status": "completed"
    },
    "tags": []
   },
   "outputs": [
    {
     "data": {
      "text/html": [
       "<div>\n",
       "<style scoped>\n",
       "    .dataframe tbody tr th:only-of-type {\n",
       "        vertical-align: middle;\n",
       "    }\n",
       "\n",
       "    .dataframe tbody tr th {\n",
       "        vertical-align: top;\n",
       "    }\n",
       "\n",
       "    .dataframe thead th {\n",
       "        text-align: right;\n",
       "    }\n",
       "</style>\n",
       "<table border=\"1\" class=\"dataframe\">\n",
       "  <thead>\n",
       "    <tr style=\"text-align: right;\">\n",
       "      <th>Churn</th>\n",
       "      <th>No</th>\n",
       "      <th>Yes</th>\n",
       "    </tr>\n",
       "    <tr>\n",
       "      <th>OnlineSecurity</th>\n",
       "      <th></th>\n",
       "      <th></th>\n",
       "    </tr>\n",
       "  </thead>\n",
       "  <tbody>\n",
       "    <tr>\n",
       "      <th>No</th>\n",
       "      <td>58.233276</td>\n",
       "      <td>41.766724</td>\n",
       "    </tr>\n",
       "    <tr>\n",
       "      <th>No internet service</th>\n",
       "      <td>92.595020</td>\n",
       "      <td>7.404980</td>\n",
       "    </tr>\n",
       "    <tr>\n",
       "      <th>Yes</th>\n",
       "      <td>85.388806</td>\n",
       "      <td>14.611194</td>\n",
       "    </tr>\n",
       "  </tbody>\n",
       "</table>\n",
       "</div>"
      ],
      "text/plain": [
       "Churn                       No        Yes\n",
       "OnlineSecurity                           \n",
       "No                   58.233276  41.766724\n",
       "No internet service  92.595020   7.404980\n",
       "Yes                  85.388806  14.611194"
      ]
     },
     "execution_count": 15,
     "metadata": {},
     "output_type": "execute_result"
    },
    {
     "data": {
      "image/png": "[encoded data removed]",
      "text/plain": [
       "<Figure size 640x480 with 1 Axes>"
      ]
     },
     "metadata": {},
     "output_type": "display_data"
    }
   ],
   "source": [
    "categorical_vs_churn('OnlineSecurity')"
   ]
  },
  {
   "cell_type": "markdown",
   "id": "b7a3bfbb",
   "metadata": {
    "papermill": {
     "duration": 0.025461,
     "end_time": "2023-03-26T01:38:07.004799",
     "exception": false,
     "start_time": "2023-03-26T01:38:06.979338",
     "status": "completed"
    },
    "tags": []
   },
   "source": [
    "Those without online security are more likely to churn."
   ]
  },
  {
   "cell_type": "markdown",
   "id": "b309acbe",
   "metadata": {
    "papermill": {
     "duration": 0.025978,
     "end_time": "2023-03-26T01:38:07.056847",
     "exception": false,
     "start_time": "2023-03-26T01:38:07.030869",
     "status": "completed"
    },
    "tags": []
   },
   "source": [
    "### Online Backup vs Churn"
   ]
  },
  {
   "cell_type": "code",
   "execution_count": 16,
   "id": "cd74333c",
   "metadata": {
    "execution": {
     "iopub.execute_input": "2023-03-26T01:38:07.110371Z",
     "iopub.status.busy": "2023-03-26T01:38:07.109957Z",
     "iopub.status.idle": "2023-03-26T01:38:07.300734Z",
     "shell.execute_reply": "2023-03-26T01:38:07.299313Z"
    },
    "papermill": {
     "duration": 0.221014,
     "end_time": "2023-03-26T01:38:07.303478",
     "exception": false,
     "start_time": "2023-03-26T01:38:07.082464",
     "status": "completed"
    },
    "tags": []
   },
   "outputs": [
    {
     "data": {
      "text/html": [
       "<div>\n",
       "<style scoped>\n",
       "    .dataframe tbody tr th:only-of-type {\n",
       "        vertical-align: middle;\n",
       "    }\n",
       "\n",
       "    .dataframe tbody tr th {\n",
       "        vertical-align: top;\n",
       "    }\n",
       "\n",
       "    .dataframe thead th {\n",
       "        text-align: right;\n",
       "    }\n",
       "</style>\n",
       "<table border=\"1\" class=\"dataframe\">\n",
       "  <thead>\n",
       "    <tr style=\"text-align: right;\">\n",
       "      <th>Churn</th>\n",
       "      <th>No</th>\n",
       "      <th>Yes</th>\n",
       "    </tr>\n",
       "    <tr>\n",
       "      <th>OnlineBackup</th>\n",
       "      <th></th>\n",
       "      <th></th>\n",
       "    </tr>\n",
       "  </thead>\n",
       "  <tbody>\n",
       "    <tr>\n",
       "      <th>No</th>\n",
       "      <td>60.071244</td>\n",
       "      <td>39.928756</td>\n",
       "    </tr>\n",
       "    <tr>\n",
       "      <th>No internet service</th>\n",
       "      <td>92.595020</td>\n",
       "      <td>7.404980</td>\n",
       "    </tr>\n",
       "    <tr>\n",
       "      <th>Yes</th>\n",
       "      <td>78.468506</td>\n",
       "      <td>21.531494</td>\n",
       "    </tr>\n",
       "  </tbody>\n",
       "</table>\n",
       "</div>"
      ],
      "text/plain": [
       "Churn                       No        Yes\n",
       "OnlineBackup                             \n",
       "No                   60.071244  39.928756\n",
       "No internet service  92.595020   7.404980\n",
       "Yes                  78.468506  21.531494"
      ]
     },
     "execution_count": 16,
     "metadata": {},
     "output_type": "execute_result"
    },
    {
     "data": {
      "image/png": "[encoded data removed]",
      "text/plain": [
       "<Figure size 640x480 with 1 Axes>"
      ]
     },
     "metadata": {},
     "output_type": "display_data"
    }
   ],
   "source": [
    "categorical_vs_churn('OnlineBackup')"
   ]
  },
  {
   "cell_type": "markdown",
   "id": "ef67a24a",
   "metadata": {
    "papermill": {
     "duration": 0.026458,
     "end_time": "2023-03-26T01:38:07.356380",
     "exception": false,
     "start_time": "2023-03-26T01:38:07.329922",
     "status": "completed"
    },
    "tags": []
   },
   "source": [
    "People without online backup are more likely to churn."
   ]
  },
  {
   "cell_type": "markdown",
   "id": "0b556852",
   "metadata": {
    "papermill": {
     "duration": 0.026053,
     "end_time": "2023-03-26T01:38:07.408857",
     "exception": false,
     "start_time": "2023-03-26T01:38:07.382804",
     "status": "completed"
    },
    "tags": []
   },
   "source": [
    "### Device protection vs Churn"
   ]
  },
  {
   "cell_type": "code",
   "execution_count": 17,
   "id": "a035ae40",
   "metadata": {
    "execution": {
     "iopub.execute_input": "2023-03-26T01:38:07.464269Z",
     "iopub.status.busy": "2023-03-26T01:38:07.463622Z",
     "iopub.status.idle": "2023-03-26T01:38:07.656185Z",
     "shell.execute_reply": "2023-03-26T01:38:07.655414Z"
    },
    "papermill": {
     "duration": 0.222328,
     "end_time": "2023-03-26T01:38:07.658213",
     "exception": false,
     "start_time": "2023-03-26T01:38:07.435885",
     "status": "completed"
    },
    "tags": []
   },
   "outputs": [
    {
     "data": {
      "text/html": [
       "<div>\n",
       "<style scoped>\n",
       "    .dataframe tbody tr th:only-of-type {\n",
       "        vertical-align: middle;\n",
       "    }\n",
       "\n",
       "    .dataframe tbody tr th {\n",
       "        vertical-align: top;\n",
       "    }\n",
       "\n",
       "    .dataframe thead th {\n",
       "        text-align: right;\n",
       "    }\n",
       "</style>\n",
       "<table border=\"1\" class=\"dataframe\">\n",
       "  <thead>\n",
       "    <tr style=\"text-align: right;\">\n",
       "      <th>Churn</th>\n",
       "      <th>No</th>\n",
       "      <th>Yes</th>\n",
       "    </tr>\n",
       "    <tr>\n",
       "      <th>DeviceProtection</th>\n",
       "      <th></th>\n",
       "      <th></th>\n",
       "    </tr>\n",
       "  </thead>\n",
       "  <tbody>\n",
       "    <tr>\n",
       "      <th>No</th>\n",
       "      <td>60.872375</td>\n",
       "      <td>39.127625</td>\n",
       "    </tr>\n",
       "    <tr>\n",
       "      <th>No internet service</th>\n",
       "      <td>92.595020</td>\n",
       "      <td>7.404980</td>\n",
       "    </tr>\n",
       "    <tr>\n",
       "      <th>Yes</th>\n",
       "      <td>77.497936</td>\n",
       "      <td>22.502064</td>\n",
       "    </tr>\n",
       "  </tbody>\n",
       "</table>\n",
       "</div>"
      ],
      "text/plain": [
       "Churn                       No        Yes\n",
       "DeviceProtection                         \n",
       "No                   60.872375  39.127625\n",
       "No internet service  92.595020   7.404980\n",
       "Yes                  77.497936  22.502064"
      ]
     },
     "execution_count": 17,
     "metadata": {},
     "output_type": "execute_result"
    },
    {
     "data": {
      "image/png": "[encoded data removed]",
      "text/plain": [
       "<Figure size 640x480 with 1 Axes>"
      ]
     },
     "metadata": {},
     "output_type": "display_data"
    }
   ],
   "source": [
    "categorical_vs_churn('DeviceProtection')"
   ]
  },
  {
   "cell_type": "markdown",
   "id": "10fc60b6",
   "metadata": {
    "papermill": {
     "duration": 0.026942,
     "end_time": "2023-03-26T01:38:07.712410",
     "exception": false,
     "start_time": "2023-03-26T01:38:07.685468",
     "status": "completed"
    },
    "tags": []
   },
   "source": [
    "People without device protection are more likely to churn."
   ]
  },
  {
   "cell_type": "markdown",
   "id": "48c7cca2",
   "metadata": {
    "papermill": {
     "duration": 0.026671,
     "end_time": "2023-03-26T01:38:07.766560",
     "exception": false,
     "start_time": "2023-03-26T01:38:07.739889",
     "status": "completed"
    },
    "tags": []
   },
   "source": [
    "### Tech Support vs Churn"
   ]
  },
  {
   "cell_type": "code",
   "execution_count": 18,
   "id": "c918d674",
   "metadata": {
    "execution": {
     "iopub.execute_input": "2023-03-26T01:38:07.822791Z",
     "iopub.status.busy": "2023-03-26T01:38:07.822149Z",
     "iopub.status.idle": "2023-03-26T01:38:08.008719Z",
     "shell.execute_reply": "2023-03-26T01:38:08.007712Z"
    },
    "papermill": {
     "duration": 0.217624,
     "end_time": "2023-03-26T01:38:08.010798",
     "exception": false,
     "start_time": "2023-03-26T01:38:07.793174",
     "status": "completed"
    },
    "tags": []
   },
   "outputs": [
    {
     "data": {
      "text/html": [
       "<div>\n",
       "<style scoped>\n",
       "    .dataframe tbody tr th:only-of-type {\n",
       "        vertical-align: middle;\n",
       "    }\n",
       "\n",
       "    .dataframe tbody tr th {\n",
       "        vertical-align: top;\n",
       "    }\n",
       "\n",
       "    .dataframe thead th {\n",
       "        text-align: right;\n",
       "    }\n",
       "</style>\n",
       "<table border=\"1\" class=\"dataframe\">\n",
       "  <thead>\n",
       "    <tr style=\"text-align: right;\">\n",
       "      <th>Churn</th>\n",
       "      <th>No</th>\n",
       "      <th>Yes</th>\n",
       "    </tr>\n",
       "    <tr>\n",
       "      <th>TechSupport</th>\n",
       "      <th></th>\n",
       "      <th></th>\n",
       "    </tr>\n",
       "  </thead>\n",
       "  <tbody>\n",
       "    <tr>\n",
       "      <th>No</th>\n",
       "      <td>58.364526</td>\n",
       "      <td>41.635474</td>\n",
       "    </tr>\n",
       "    <tr>\n",
       "      <th>No internet service</th>\n",
       "      <td>92.595020</td>\n",
       "      <td>7.404980</td>\n",
       "    </tr>\n",
       "    <tr>\n",
       "      <th>Yes</th>\n",
       "      <td>84.833659</td>\n",
       "      <td>15.166341</td>\n",
       "    </tr>\n",
       "  </tbody>\n",
       "</table>\n",
       "</div>"
      ],
      "text/plain": [
       "Churn                       No        Yes\n",
       "TechSupport                              \n",
       "No                   58.364526  41.635474\n",
       "No internet service  92.595020   7.404980\n",
       "Yes                  84.833659  15.166341"
      ]
     },
     "execution_count": 18,
     "metadata": {},
     "output_type": "execute_result"
    },
    {
     "data": {
      "image/png": "[encoded data removed]",
      "text/plain": [
       "<Figure size 640x480 with 1 Axes>"
      ]
     },
     "metadata": {},
     "output_type": "display_data"
    }
   ],
   "source": [
    "categorical_vs_churn('TechSupport')"
   ]
  },
  {
   "cell_type": "markdown",
   "id": "a31f1be8",
   "metadata": {
    "papermill": {
     "duration": 0.027675,
     "end_time": "2023-03-26T01:38:08.066457",
     "exception": false,
     "start_time": "2023-03-26T01:38:08.038782",
     "status": "completed"
    },
    "tags": []
   },
   "source": [
    "People without tech support are more likely to churn."
   ]
  },
  {
   "cell_type": "markdown",
   "id": "f3179b4c",
   "metadata": {
    "papermill": {
     "duration": 0.027317,
     "end_time": "2023-03-26T01:38:08.121786",
     "exception": false,
     "start_time": "2023-03-26T01:38:08.094469",
     "status": "completed"
    },
    "tags": []
   },
   "source": [
    "### Streaming TV vs churn"
   ]
  },
  {
   "cell_type": "code",
   "execution_count": 19,
   "id": "b195dd3a",
   "metadata": {
    "execution": {
     "iopub.execute_input": "2023-03-26T01:38:08.178042Z",
     "iopub.status.busy": "2023-03-26T01:38:08.177407Z",
     "iopub.status.idle": "2023-03-26T01:38:08.370031Z",
     "shell.execute_reply": "2023-03-26T01:38:08.369329Z"
    },
    "papermill": {
     "duration": 0.222901,
     "end_time": "2023-03-26T01:38:08.371926",
     "exception": false,
     "start_time": "2023-03-26T01:38:08.149025",
     "status": "completed"
    },
    "tags": []
   },
   "outputs": [
    {
     "data": {
      "text/html": [
       "<div>\n",
       "<style scoped>\n",
       "    .dataframe tbody tr th:only-of-type {\n",
       "        vertical-align: middle;\n",
       "    }\n",
       "\n",
       "    .dataframe tbody tr th {\n",
       "        vertical-align: top;\n",
       "    }\n",
       "\n",
       "    .dataframe thead th {\n",
       "        text-align: right;\n",
       "    }\n",
       "</style>\n",
       "<table border=\"1\" class=\"dataframe\">\n",
       "  <thead>\n",
       "    <tr style=\"text-align: right;\">\n",
       "      <th>Churn</th>\n",
       "      <th>No</th>\n",
       "      <th>Yes</th>\n",
       "    </tr>\n",
       "    <tr>\n",
       "      <th>StreamingTV</th>\n",
       "      <th></th>\n",
       "      <th></th>\n",
       "    </tr>\n",
       "  </thead>\n",
       "  <tbody>\n",
       "    <tr>\n",
       "      <th>No</th>\n",
       "      <td>66.476868</td>\n",
       "      <td>33.523132</td>\n",
       "    </tr>\n",
       "    <tr>\n",
       "      <th>No internet service</th>\n",
       "      <td>92.595020</td>\n",
       "      <td>7.404980</td>\n",
       "    </tr>\n",
       "    <tr>\n",
       "      <th>Yes</th>\n",
       "      <td>69.929812</td>\n",
       "      <td>30.070188</td>\n",
       "    </tr>\n",
       "  </tbody>\n",
       "</table>\n",
       "</div>"
      ],
      "text/plain": [
       "Churn                       No        Yes\n",
       "StreamingTV                              \n",
       "No                   66.476868  33.523132\n",
       "No internet service  92.595020   7.404980\n",
       "Yes                  69.929812  30.070188"
      ]
     },
     "execution_count": 19,
     "metadata": {},
     "output_type": "execute_result"
    },
    {
     "data": {
      "image/png": "[encoded data removed]",
      "text/plain": [
       "<Figure size 640x480 with 1 Axes>"
      ]
     },
     "metadata": {},
     "output_type": "display_data"
    }
   ],
   "source": [
    "categorical_vs_churn('StreamingTV')"
   ]
  },
  {
   "cell_type": "markdown",
   "id": "fbd8aed7",
   "metadata": {
    "papermill": {
     "duration": 0.027746,
     "end_time": "2023-03-26T01:38:08.427492",
     "exception": false,
     "start_time": "2023-03-26T01:38:08.399746",
     "status": "completed"
    },
    "tags": []
   },
   "source": [
    "The graph does not show that there is a significant difference between the churn rate of those with streaming TV and those without streaming TV."
   ]
  },
  {
   "cell_type": "markdown",
   "id": "7888b392",
   "metadata": {
    "papermill": {
     "duration": 0.027902,
     "end_time": "2023-03-26T01:38:08.483564",
     "exception": false,
     "start_time": "2023-03-26T01:38:08.455662",
     "status": "completed"
    },
    "tags": []
   },
   "source": [
    "### Streaming Movies vs churn"
   ]
  },
  {
   "cell_type": "code",
   "execution_count": 20,
   "id": "9eefcb05",
   "metadata": {
    "execution": {
     "iopub.execute_input": "2023-03-26T01:38:08.543371Z",
     "iopub.status.busy": "2023-03-26T01:38:08.541786Z",
     "iopub.status.idle": "2023-03-26T01:38:08.733731Z",
     "shell.execute_reply": "2023-03-26T01:38:08.732636Z"
    },
    "papermill": {
     "duration": 0.223627,
     "end_time": "2023-03-26T01:38:08.736202",
     "exception": false,
     "start_time": "2023-03-26T01:38:08.512575",
     "status": "completed"
    },
    "tags": []
   },
   "outputs": [
    {
     "data": {
      "text/html": [
       "<div>\n",
       "<style scoped>\n",
       "    .dataframe tbody tr th:only-of-type {\n",
       "        vertical-align: middle;\n",
       "    }\n",
       "\n",
       "    .dataframe tbody tr th {\n",
       "        vertical-align: top;\n",
       "    }\n",
       "\n",
       "    .dataframe thead th {\n",
       "        text-align: right;\n",
       "    }\n",
       "</style>\n",
       "<table border=\"1\" class=\"dataframe\">\n",
       "  <thead>\n",
       "    <tr style=\"text-align: right;\">\n",
       "      <th>Churn</th>\n",
       "      <th>No</th>\n",
       "      <th>Yes</th>\n",
       "    </tr>\n",
       "    <tr>\n",
       "      <th>StreamingMovies</th>\n",
       "      <th></th>\n",
       "      <th></th>\n",
       "    </tr>\n",
       "  </thead>\n",
       "  <tbody>\n",
       "    <tr>\n",
       "      <th>No</th>\n",
       "      <td>66.319569</td>\n",
       "      <td>33.680431</td>\n",
       "    </tr>\n",
       "    <tr>\n",
       "      <th>No internet service</th>\n",
       "      <td>92.595020</td>\n",
       "      <td>7.404980</td>\n",
       "    </tr>\n",
       "    <tr>\n",
       "      <th>Yes</th>\n",
       "      <td>70.058565</td>\n",
       "      <td>29.941435</td>\n",
       "    </tr>\n",
       "  </tbody>\n",
       "</table>\n",
       "</div>"
      ],
      "text/plain": [
       "Churn                       No        Yes\n",
       "StreamingMovies                          \n",
       "No                   66.319569  33.680431\n",
       "No internet service  92.595020   7.404980\n",
       "Yes                  70.058565  29.941435"
      ]
     },
     "execution_count": 20,
     "metadata": {},
     "output_type": "execute_result"
    },
    {
     "data": {
      "image/png": "[encoded data removed]",
      "text/plain": [
       "<Figure size 640x480 with 1 Axes>"
      ]
     },
     "metadata": {},
     "output_type": "display_data"
    }
   ],
   "source": [
    "categorical_vs_churn('StreamingMovies')"
   ]
  },
  {
   "cell_type": "markdown",
   "id": "438e2863",
   "metadata": {
    "papermill": {
     "duration": 0.027581,
     "end_time": "2023-03-26T01:38:08.792483",
     "exception": false,
     "start_time": "2023-03-26T01:38:08.764902",
     "status": "completed"
    },
    "tags": []
   },
   "source": [
    "The graph does not show a significant difference between the churn rate for those with streaming movies and that for those without streaming movies."
   ]
  },
  {
   "cell_type": "markdown",
   "id": "96ff955d",
   "metadata": {
    "papermill": {
     "duration": 0.027791,
     "end_time": "2023-03-26T01:38:08.848343",
     "exception": false,
     "start_time": "2023-03-26T01:38:08.820552",
     "status": "completed"
    },
    "tags": []
   },
   "source": [
    "### Contract vs Churn"
   ]
  },
  {
   "cell_type": "code",
   "execution_count": 21,
   "id": "9be54fba",
   "metadata": {
    "execution": {
     "iopub.execute_input": "2023-03-26T01:38:08.908150Z",
     "iopub.status.busy": "2023-03-26T01:38:08.906890Z",
     "iopub.status.idle": "2023-03-26T01:38:09.100569Z",
     "shell.execute_reply": "2023-03-26T01:38:09.099688Z"
    },
    "papermill": {
     "duration": 0.225899,
     "end_time": "2023-03-26T01:38:09.102581",
     "exception": false,
     "start_time": "2023-03-26T01:38:08.876682",
     "status": "completed"
    },
    "tags": []
   },
   "outputs": [
    {
     "data": {
      "text/html": [
       "<div>\n",
       "<style scoped>\n",
       "    .dataframe tbody tr th:only-of-type {\n",
       "        vertical-align: middle;\n",
       "    }\n",
       "\n",
       "    .dataframe tbody tr th {\n",
       "        vertical-align: top;\n",
       "    }\n",
       "\n",
       "    .dataframe thead th {\n",
       "        text-align: right;\n",
       "    }\n",
       "</style>\n",
       "<table border=\"1\" class=\"dataframe\">\n",
       "  <thead>\n",
       "    <tr style=\"text-align: right;\">\n",
       "      <th>Churn</th>\n",
       "      <th>No</th>\n",
       "      <th>Yes</th>\n",
       "    </tr>\n",
       "    <tr>\n",
       "      <th>Contract</th>\n",
       "      <th></th>\n",
       "      <th></th>\n",
       "    </tr>\n",
       "  </thead>\n",
       "  <tbody>\n",
       "    <tr>\n",
       "      <th>Month-to-month</th>\n",
       "      <td>57.290323</td>\n",
       "      <td>42.709677</td>\n",
       "    </tr>\n",
       "    <tr>\n",
       "      <th>One year</th>\n",
       "      <td>88.730482</td>\n",
       "      <td>11.269518</td>\n",
       "    </tr>\n",
       "    <tr>\n",
       "      <th>Two year</th>\n",
       "      <td>97.168142</td>\n",
       "      <td>2.831858</td>\n",
       "    </tr>\n",
       "  </tbody>\n",
       "</table>\n",
       "</div>"
      ],
      "text/plain": [
       "Churn                  No        Yes\n",
       "Contract                            \n",
       "Month-to-month  57.290323  42.709677\n",
       "One year        88.730482  11.269518\n",
       "Two year        97.168142   2.831858"
      ]
     },
     "execution_count": 21,
     "metadata": {},
     "output_type": "execute_result"
    },
    {
     "data": {
      "image/png": "[encoded data removed]",
      "text/plain": [
       "<Figure size 640x480 with 1 Axes>"
      ]
     },
     "metadata": {},
     "output_type": "display_data"
    }
   ],
   "source": [
    "categorical_vs_churn('Contract')"
   ]
  },
  {
   "cell_type": "markdown",
   "id": "4b41d336",
   "metadata": {
    "papermill": {
     "duration": 0.028136,
     "end_time": "2023-03-26T01:38:09.159176",
     "exception": false,
     "start_time": "2023-03-26T01:38:09.131040",
     "status": "completed"
    },
    "tags": []
   },
   "source": [
    "Those with a two tear contract are least likely to churn. Those with a month-to-month contract are most likely to churn."
   ]
  },
  {
   "cell_type": "markdown",
   "id": "d79cdf99",
   "metadata": {
    "papermill": {
     "duration": 0.028239,
     "end_time": "2023-03-26T01:38:09.215714",
     "exception": false,
     "start_time": "2023-03-26T01:38:09.187475",
     "status": "completed"
    },
    "tags": []
   },
   "source": [
    "### Paperless billing vs churn"
   ]
  },
  {
   "cell_type": "code",
   "execution_count": 22,
   "id": "47b10e62",
   "metadata": {
    "execution": {
     "iopub.execute_input": "2023-03-26T01:38:09.276436Z",
     "iopub.status.busy": "2023-03-26T01:38:09.274900Z",
     "iopub.status.idle": "2023-03-26T01:38:09.437240Z",
     "shell.execute_reply": "2023-03-26T01:38:09.435673Z"
    },
    "papermill": {
     "duration": 0.195589,
     "end_time": "2023-03-26T01:38:09.440301",
     "exception": false,
     "start_time": "2023-03-26T01:38:09.244712",
     "status": "completed"
    },
    "tags": []
   },
   "outputs": [
    {
     "data": {
      "text/html": [
       "<div>\n",
       "<style scoped>\n",
       "    .dataframe tbody tr th:only-of-type {\n",
       "        vertical-align: middle;\n",
       "    }\n",
       "\n",
       "    .dataframe tbody tr th {\n",
       "        vertical-align: top;\n",
       "    }\n",
       "\n",
       "    .dataframe thead th {\n",
       "        text-align: right;\n",
       "    }\n",
       "</style>\n",
       "<table border=\"1\" class=\"dataframe\">\n",
       "  <thead>\n",
       "    <tr style=\"text-align: right;\">\n",
       "      <th>Churn</th>\n",
       "      <th>No</th>\n",
       "      <th>Yes</th>\n",
       "    </tr>\n",
       "    <tr>\n",
       "      <th>PaperlessBilling</th>\n",
       "      <th></th>\n",
       "      <th></th>\n",
       "    </tr>\n",
       "  </thead>\n",
       "  <tbody>\n",
       "    <tr>\n",
       "      <th>No</th>\n",
       "      <td>83.669916</td>\n",
       "      <td>16.330084</td>\n",
       "    </tr>\n",
       "    <tr>\n",
       "      <th>Yes</th>\n",
       "      <td>66.434908</td>\n",
       "      <td>33.565092</td>\n",
       "    </tr>\n",
       "  </tbody>\n",
       "</table>\n",
       "</div>"
      ],
      "text/plain": [
       "Churn                    No        Yes\n",
       "PaperlessBilling                      \n",
       "No                83.669916  16.330084\n",
       "Yes               66.434908  33.565092"
      ]
     },
     "execution_count": 22,
     "metadata": {},
     "output_type": "execute_result"
    },
    {
     "data": {
      "image/png": "[encoded data removed]",
      "text/plain": [
       "<Figure size 640x480 with 1 Axes>"
      ]
     },
     "metadata": {},
     "output_type": "display_data"
    }
   ],
   "source": [
    "categorical_vs_churn('PaperlessBilling')"
   ]
  },
  {
   "cell_type": "markdown",
   "id": "5277fc98",
   "metadata": {
    "papermill": {
     "duration": 0.029948,
     "end_time": "2023-03-26T01:38:09.500560",
     "exception": false,
     "start_time": "2023-03-26T01:38:09.470612",
     "status": "completed"
    },
    "tags": []
   },
   "source": [
    "People with paperless billing are more likely to churn."
   ]
  },
  {
   "cell_type": "markdown",
   "id": "36f4acc1",
   "metadata": {
    "papermill": {
     "duration": 0.02904,
     "end_time": "2023-03-26T01:38:09.558984",
     "exception": false,
     "start_time": "2023-03-26T01:38:09.529944",
     "status": "completed"
    },
    "tags": []
   },
   "source": [
    "### Payment method vs churn"
   ]
  },
  {
   "cell_type": "code",
   "execution_count": 23,
   "id": "13226a99",
   "metadata": {
    "execution": {
     "iopub.execute_input": "2023-03-26T01:38:09.618497Z",
     "iopub.status.busy": "2023-03-26T01:38:09.618154Z",
     "iopub.status.idle": "2023-03-26T01:38:09.827625Z",
     "shell.execute_reply": "2023-03-26T01:38:09.826227Z"
    },
    "papermill": {
     "duration": 0.242633,
     "end_time": "2023-03-26T01:38:09.830507",
     "exception": false,
     "start_time": "2023-03-26T01:38:09.587874",
     "status": "completed"
    },
    "tags": []
   },
   "outputs": [
    {
     "data": {
      "text/html": [
       "<div>\n",
       "<style scoped>\n",
       "    .dataframe tbody tr th:only-of-type {\n",
       "        vertical-align: middle;\n",
       "    }\n",
       "\n",
       "    .dataframe tbody tr th {\n",
       "        vertical-align: top;\n",
       "    }\n",
       "\n",
       "    .dataframe thead th {\n",
       "        text-align: right;\n",
       "    }\n",
       "</style>\n",
       "<table border=\"1\" class=\"dataframe\">\n",
       "  <thead>\n",
       "    <tr style=\"text-align: right;\">\n",
       "      <th>Churn</th>\n",
       "      <th>No</th>\n",
       "      <th>Yes</th>\n",
       "    </tr>\n",
       "    <tr>\n",
       "      <th>PaymentMethod</th>\n",
       "      <th></th>\n",
       "      <th></th>\n",
       "    </tr>\n",
       "  </thead>\n",
       "  <tbody>\n",
       "    <tr>\n",
       "      <th>Bank transfer (automatic)</th>\n",
       "      <td>83.290155</td>\n",
       "      <td>16.709845</td>\n",
       "    </tr>\n",
       "    <tr>\n",
       "      <th>Credit card (automatic)</th>\n",
       "      <td>84.756899</td>\n",
       "      <td>15.243101</td>\n",
       "    </tr>\n",
       "    <tr>\n",
       "      <th>Electronic check</th>\n",
       "      <td>54.714588</td>\n",
       "      <td>45.285412</td>\n",
       "    </tr>\n",
       "    <tr>\n",
       "      <th>Mailed check</th>\n",
       "      <td>80.893300</td>\n",
       "      <td>19.106700</td>\n",
       "    </tr>\n",
       "  </tbody>\n",
       "</table>\n",
       "</div>"
      ],
      "text/plain": [
       "Churn                             No        Yes\n",
       "PaymentMethod                                  \n",
       "Bank transfer (automatic)  83.290155  16.709845\n",
       "Credit card (automatic)    84.756899  15.243101\n",
       "Electronic check           54.714588  45.285412\n",
       "Mailed check               80.893300  19.106700"
      ]
     },
     "execution_count": 23,
     "metadata": {},
     "output_type": "execute_result"
    },
    {
     "data": {
      "image/png": "[encoded data removed]",
      "text/plain": [
       "<Figure size 640x480 with 1 Axes>"
      ]
     },
     "metadata": {},
     "output_type": "display_data"
    }
   ],
   "source": [
    "categorical_vs_churn('PaymentMethod')"
   ]
  },
  {
   "cell_type": "markdown",
   "id": "853609c6",
   "metadata": {
    "papermill": {
     "duration": 0.028866,
     "end_time": "2023-03-26T01:38:09.888838",
     "exception": false,
     "start_time": "2023-03-26T01:38:09.859972",
     "status": "completed"
    },
    "tags": []
   },
   "source": [
    "Those with electronic check are most likely to churn. The churn rate for those with bank transfer, electronic check, and mailed check are similar."
   ]
  },
  {
   "cell_type": "markdown",
   "id": "5ef7c138",
   "metadata": {
    "papermill": {
     "duration": 0.028801,
     "end_time": "2023-03-26T01:38:09.946997",
     "exception": false,
     "start_time": "2023-03-26T01:38:09.918196",
     "status": "completed"
    },
    "tags": []
   },
   "source": [
    "### Monthly Charges vs Churn"
   ]
  },
  {
   "cell_type": "code",
   "execution_count": 24,
   "id": "fb8719c6",
   "metadata": {
    "execution": {
     "iopub.execute_input": "2023-03-26T01:38:10.007405Z",
     "iopub.status.busy": "2023-03-26T01:38:10.006547Z",
     "iopub.status.idle": "2023-03-26T01:38:11.999526Z",
     "shell.execute_reply": "2023-03-26T01:38:11.998413Z"
    },
    "papermill": {
     "duration": 2.02541,
     "end_time": "2023-03-26T01:38:12.001880",
     "exception": false,
     "start_time": "2023-03-26T01:38:09.976470",
     "status": "completed"
    },
    "tags": []
   },
   "outputs": [],
   "source": [
    "mc_churn = []\n",
    "for i in df.MonthlyCharges.unique():\n",
    "    mc_churn.append([i,len(df[(df.MonthlyCharges == i) & (df.Churn == 'Yes')])/len(df[df.MonthlyCharges == i])])\n",
    "mc_table = pd.DataFrame(mc_churn, columns=['Monthly Charges', 'Churn probability'])"
   ]
  },
  {
   "cell_type": "markdown",
   "id": "f068d370",
   "metadata": {
    "papermill": {
     "duration": 0.028506,
     "end_time": "2023-03-26T01:38:12.059160",
     "exception": false,
     "start_time": "2023-03-26T01:38:12.030654",
     "status": "completed"
    },
    "tags": []
   },
   "source": [
    "I am integer dividing and multiplying the monthly charges column by 10 because I want the lines to not go up and down steeply."
   ]
  },
  {
   "cell_type": "code",
   "execution_count": 25,
   "id": "3eb90c6e",
   "metadata": {
    "execution": {
     "iopub.execute_input": "2023-03-26T01:38:12.119123Z",
     "iopub.status.busy": "2023-03-26T01:38:12.118737Z",
     "iopub.status.idle": "2023-03-26T01:38:12.124164Z",
     "shell.execute_reply": "2023-03-26T01:38:12.123369Z"
    },
    "papermill": {
     "duration": 0.038316,
     "end_time": "2023-03-26T01:38:12.126179",
     "exception": false,
     "start_time": "2023-03-26T01:38:12.087863",
     "status": "completed"
    },
    "tags": []
   },
   "outputs": [],
   "source": [
    "mc_table['Monthly Charges'] = mc_table['Monthly Charges'] // 10"
   ]
  },
  {
   "cell_type": "code",
   "execution_count": 26,
   "id": "65df1814",
   "metadata": {
    "execution": {
     "iopub.execute_input": "2023-03-26T01:38:12.189047Z",
     "iopub.status.busy": "2023-03-26T01:38:12.187906Z",
     "iopub.status.idle": "2023-03-26T01:38:12.360283Z",
     "shell.execute_reply": "2023-03-26T01:38:12.359351Z"
    },
    "papermill": {
     "duration": 0.207253,
     "end_time": "2023-03-26T01:38:12.362697",
     "exception": false,
     "start_time": "2023-03-26T01:38:12.155444",
     "status": "completed"
    },
    "tags": []
   },
   "outputs": [
    {
     "data": {
      "text/plain": [
       "<AxesSubplot:xlabel='Monthly Charges'>"
      ]
     },
     "execution_count": 26,
     "metadata": {},
     "output_type": "execute_result"
    },
    {
     "data": {
      "image/png": "[encoded data removed]",
      "text/plain": [
       "<Figure size 640x480 with 1 Axes>"
      ]
     },
     "metadata": {},
     "output_type": "display_data"
    }
   ],
   "source": [
    "mc_table['Monthly Charges'] = mc_table['Monthly Charges'] * 10\n",
    "mc_table.groupby('Monthly Charges').mean().plot()"
   ]
  },
  {
   "cell_type": "markdown",
   "id": "8feb53c0",
   "metadata": {
    "papermill": {
     "duration": 0.030551,
     "end_time": "2023-03-26T01:38:12.423667",
     "exception": false,
     "start_time": "2023-03-26T01:38:12.393116",
     "status": "completed"
    },
    "tags": []
   },
   "source": [
    "As the monthly charges increase, the probability to churn increases slightly."
   ]
  },
  {
   "cell_type": "markdown",
   "id": "8ee983dd",
   "metadata": {
    "papermill": {
     "duration": 0.030279,
     "end_time": "2023-03-26T01:38:12.484859",
     "exception": false,
     "start_time": "2023-03-26T01:38:12.454580",
     "status": "completed"
    },
    "tags": []
   },
   "source": [
    "### Total Charges vs Churn"
   ]
  },
  {
   "cell_type": "code",
   "execution_count": 27,
   "id": "ff92cf39",
   "metadata": {
    "execution": {
     "iopub.execute_input": "2023-03-26T01:38:12.549581Z",
     "iopub.status.busy": "2023-03-26T01:38:12.548194Z",
     "iopub.status.idle": "2023-03-26T01:38:20.493631Z",
     "shell.execute_reply": "2023-03-26T01:38:20.492532Z"
    },
    "papermill": {
     "duration": 7.979804,
     "end_time": "2023-03-26T01:38:20.496212",
     "exception": false,
     "start_time": "2023-03-26T01:38:12.516408",
     "status": "completed"
    },
    "tags": []
   },
   "outputs": [],
   "source": [
    "df.loc[df.tenure == 0, 'TotalCharges'] = 0 # Make sure that there are no strings in the column.\n",
    "df['TotalCharges'] = df['TotalCharges'].astype(float) # Convert the column to float.\n",
    "tc_churn = []\n",
    "for i in df.TotalCharges.unique(): # See formula for tenure.\n",
    "    tc_churn.append([i,len(df[(df.TotalCharges == i) & (df.Churn == 'Yes')])/len(df[df.TotalCharges == i])])\n",
    "tc_table = pd.DataFrame(tc_churn, columns=['Total Charges', 'Churn probability'])"
   ]
  },
  {
   "cell_type": "code",
   "execution_count": 28,
   "id": "f15f1cbf",
   "metadata": {
    "execution": {
     "iopub.execute_input": "2023-03-26T01:38:20.558935Z",
     "iopub.status.busy": "2023-03-26T01:38:20.558530Z",
     "iopub.status.idle": "2023-03-26T01:38:20.572328Z",
     "shell.execute_reply": "2023-03-26T01:38:20.571168Z"
    },
    "papermill": {
     "duration": 0.048063,
     "end_time": "2023-03-26T01:38:20.574410",
     "exception": false,
     "start_time": "2023-03-26T01:38:20.526347",
     "status": "completed"
    },
    "tags": []
   },
   "outputs": [
    {
     "data": {
      "text/html": [
       "<div>\n",
       "<style scoped>\n",
       "    .dataframe tbody tr th:only-of-type {\n",
       "        vertical-align: middle;\n",
       "    }\n",
       "\n",
       "    .dataframe tbody tr th {\n",
       "        vertical-align: top;\n",
       "    }\n",
       "\n",
       "    .dataframe thead th {\n",
       "        text-align: right;\n",
       "    }\n",
       "</style>\n",
       "<table border=\"1\" class=\"dataframe\">\n",
       "  <thead>\n",
       "    <tr style=\"text-align: right;\">\n",
       "      <th></th>\n",
       "      <th>Total Charges</th>\n",
       "      <th>Churn probability</th>\n",
       "    </tr>\n",
       "  </thead>\n",
       "  <tbody>\n",
       "    <tr>\n",
       "      <th>0</th>\n",
       "      <td>29.85</td>\n",
       "      <td>0.0</td>\n",
       "    </tr>\n",
       "    <tr>\n",
       "      <th>1</th>\n",
       "      <td>1889.50</td>\n",
       "      <td>0.0</td>\n",
       "    </tr>\n",
       "    <tr>\n",
       "      <th>2</th>\n",
       "      <td>108.15</td>\n",
       "      <td>1.0</td>\n",
       "    </tr>\n",
       "    <tr>\n",
       "      <th>3</th>\n",
       "      <td>1840.75</td>\n",
       "      <td>0.0</td>\n",
       "    </tr>\n",
       "    <tr>\n",
       "      <th>4</th>\n",
       "      <td>151.65</td>\n",
       "      <td>1.0</td>\n",
       "    </tr>\n",
       "    <tr>\n",
       "      <th>...</th>\n",
       "      <td>...</td>\n",
       "      <td>...</td>\n",
       "    </tr>\n",
       "    <tr>\n",
       "      <th>6526</th>\n",
       "      <td>1990.50</td>\n",
       "      <td>0.0</td>\n",
       "    </tr>\n",
       "    <tr>\n",
       "      <th>6527</th>\n",
       "      <td>7362.90</td>\n",
       "      <td>0.0</td>\n",
       "    </tr>\n",
       "    <tr>\n",
       "      <th>6528</th>\n",
       "      <td>346.45</td>\n",
       "      <td>0.0</td>\n",
       "    </tr>\n",
       "    <tr>\n",
       "      <th>6529</th>\n",
       "      <td>306.60</td>\n",
       "      <td>1.0</td>\n",
       "    </tr>\n",
       "    <tr>\n",
       "      <th>6530</th>\n",
       "      <td>6844.50</td>\n",
       "      <td>0.0</td>\n",
       "    </tr>\n",
       "  </tbody>\n",
       "</table>\n",
       "<p>6531 rows × 2 columns</p>\n",
       "</div>"
      ],
      "text/plain": [
       "      Total Charges  Churn probability\n",
       "0             29.85                0.0\n",
       "1           1889.50                0.0\n",
       "2            108.15                1.0\n",
       "3           1840.75                0.0\n",
       "4            151.65                1.0\n",
       "...             ...                ...\n",
       "6526        1990.50                0.0\n",
       "6527        7362.90                0.0\n",
       "6528         346.45                0.0\n",
       "6529         306.60                1.0\n",
       "6530        6844.50                0.0\n",
       "\n",
       "[6531 rows x 2 columns]"
      ]
     },
     "execution_count": 28,
     "metadata": {},
     "output_type": "execute_result"
    }
   ],
   "source": [
    "tc_table"
   ]
  },
  {
   "cell_type": "markdown",
   "id": "4a3af9ed",
   "metadata": {
    "papermill": {
     "duration": 0.029847,
     "end_time": "2023-03-26T01:38:20.634055",
     "exception": false,
     "start_time": "2023-03-26T01:38:20.604208",
     "status": "completed"
    },
    "tags": []
   },
   "source": [
    "In this section, I am integer diving and multiplying the total charges column by 1000 because the graph would otherwise have a y-value of either 0 or 1 for each x-value."
   ]
  },
  {
   "cell_type": "code",
   "execution_count": 29,
   "id": "a1e41a0e",
   "metadata": {
    "execution": {
     "iopub.execute_input": "2023-03-26T01:38:20.696122Z",
     "iopub.status.busy": "2023-03-26T01:38:20.695744Z",
     "iopub.status.idle": "2023-03-26T01:38:20.891611Z",
     "shell.execute_reply": "2023-03-26T01:38:20.890373Z"
    },
    "papermill": {
     "duration": 0.229473,
     "end_time": "2023-03-26T01:38:20.893858",
     "exception": false,
     "start_time": "2023-03-26T01:38:20.664385",
     "status": "completed"
    },
    "tags": []
   },
   "outputs": [
    {
     "data": {
      "text/plain": [
       "<AxesSubplot:xlabel='Total Charges'>"
      ]
     },
     "execution_count": 29,
     "metadata": {},
     "output_type": "execute_result"
    },
    {
     "data": {
      "image/png": "[encoded data removed]",
      "text/plain": [
       "<Figure size 640x480 with 1 Axes>"
      ]
     },
     "metadata": {},
     "output_type": "display_data"
    }
   ],
   "source": [
    "tc_table['Total Charges'] = tc_table['Total Charges'].astype(float)\n",
    "tc_table['Total Charges'] = tc_table['Total Charges'] // 1000\n",
    "tc_table['Total Charges'] = tc_table['Total Charges'] * 1000\n",
    "tc_table.groupby('Total Charges').mean().plot()"
   ]
  },
  {
   "cell_type": "markdown",
   "id": "cbfde37c",
   "metadata": {
    "papermill": {
     "duration": 0.030724,
     "end_time": "2023-03-26T01:38:20.955230",
     "exception": false,
     "start_time": "2023-03-26T01:38:20.924506",
     "status": "completed"
    },
    "tags": []
   },
   "source": [
    "As the total charges increase, the probability of churning decreases. This is likely caused by the increase in tenure."
   ]
  },
  {
   "cell_type": "markdown",
   "id": "a18cf3a1",
   "metadata": {
    "papermill": {
     "duration": 0.030177,
     "end_time": "2023-03-26T01:38:21.015888",
     "exception": false,
     "start_time": "2023-03-26T01:38:20.985711",
     "status": "completed"
    },
    "tags": []
   },
   "source": [
    "### Hypothesis testing to determine important variables"
   ]
  },
  {
   "cell_type": "markdown",
   "id": "579b0750",
   "metadata": {
    "papermill": {
     "duration": 0.031094,
     "end_time": "2023-03-26T01:38:21.076951",
     "exception": false,
     "start_time": "2023-03-26T01:38:21.045857",
     "status": "completed"
    },
    "tags": []
   },
   "source": [
    "I am performing hypothesis tests for each variable because graph EDA does not tell which are the important variables."
   ]
  },
  {
   "cell_type": "code",
   "execution_count": 30,
   "id": "e2cc3400",
   "metadata": {
    "execution": {
     "iopub.execute_input": "2023-03-26T01:38:21.142386Z",
     "iopub.status.busy": "2023-03-26T01:38:21.141433Z",
     "iopub.status.idle": "2023-03-26T01:38:21.147548Z",
     "shell.execute_reply": "2023-03-26T01:38:21.146693Z"
    },
    "papermill": {
     "duration": 0.041817,
     "end_time": "2023-03-26T01:38:21.149739",
     "exception": false,
     "start_time": "2023-03-26T01:38:21.107922",
     "status": "completed"
    },
    "tags": []
   },
   "outputs": [
    {
     "data": {
      "text/plain": [
       "Index(['customerID', 'gender', 'SeniorCitizen', 'Partner', 'Dependents',\n",
       "       'tenure', 'PhoneService', 'MultipleLines', 'InternetService',\n",
       "       'OnlineSecurity', 'OnlineBackup', 'DeviceProtection', 'TechSupport',\n",
       "       'StreamingTV', 'StreamingMovies', 'Contract', 'PaperlessBilling',\n",
       "       'PaymentMethod', 'MonthlyCharges', 'TotalCharges', 'Churn'],\n",
       "      dtype='object')"
      ]
     },
     "execution_count": 30,
     "metadata": {},
     "output_type": "execute_result"
    }
   ],
   "source": [
    "df.columns"
   ]
  },
  {
   "cell_type": "markdown",
   "id": "0b856117",
   "metadata": {
    "papermill": {
     "duration": 0.031,
     "end_time": "2023-03-26T01:38:21.211869",
     "exception": false,
     "start_time": "2023-03-26T01:38:21.180869",
     "status": "completed"
    },
    "tags": []
   },
   "source": [
    "I am performing a chi-square test on each categorical column vs churn."
   ]
  },
  {
   "cell_type": "code",
   "execution_count": 31,
   "id": "4b121d86",
   "metadata": {
    "execution": {
     "iopub.execute_input": "2023-03-26T01:38:21.279271Z",
     "iopub.status.busy": "2023-03-26T01:38:21.278842Z",
     "iopub.status.idle": "2023-03-26T01:38:22.422930Z",
     "shell.execute_reply": "2023-03-26T01:38:22.420975Z"
    },
    "papermill": {
     "duration": 1.182257,
     "end_time": "2023-03-26T01:38:22.425852",
     "exception": false,
     "start_time": "2023-03-26T01:38:21.243595",
     "status": "completed"
    },
    "tags": []
   },
   "outputs": [
    {
     "name": "stdout",
     "output_type": "stream",
     "text": [
      "SeniorCitizen 1.510066805092378e-36\n",
      "Partner 2.1399113440759935e-36\n",
      "Dependents 4.9249216612154196e-43\n",
      "tenure 1.2807811055496877e-176\n",
      "MultipleLines 0.0034643829548773\n",
      "InternetService 9.571788222840544e-160\n",
      "OnlineSecurity 2.661149635176552e-185\n",
      "OnlineBackup 2.0797592160864276e-131\n",
      "DeviceProtection 5.505219496457244e-122\n",
      "TechSupport 1.4430840279998987e-180\n",
      "StreamingTV 5.528994485739183e-82\n",
      "StreamingMovies 2.667756755723681e-82\n",
      "Contract 5.863038300673391e-258\n",
      "PaperlessBilling 4.073354668665985e-58\n",
      "PaymentMethod 3.6823546520097993e-140\n",
      "MonthlyCharges 1.8852727784255517e-18\n",
      "Churn 0.0\n"
     ]
    }
   ],
   "source": [
    "from scipy.stats import chi2_contingency\n",
    "for i in df.columns:\n",
    "    c, p, dof, expected = chi2_contingency(pd.crosstab(df[i], df['Churn']))\n",
    "    if p < .05:\n",
    "        print(i , p)"
   ]
  },
  {
   "cell_type": "markdown",
   "id": "06183788",
   "metadata": {
    "papermill": {
     "duration": 0.032238,
     "end_time": "2023-03-26T01:38:22.491205",
     "exception": false,
     "start_time": "2023-03-26T01:38:22.458967",
     "status": "completed"
    },
    "tags": []
   },
   "source": [
    "## Feature Engineering"
   ]
  },
  {
   "cell_type": "markdown",
   "id": "7d7fb419",
   "metadata": {
    "papermill": {
     "duration": 0.032169,
     "end_time": "2023-03-26T01:38:22.557228",
     "exception": false,
     "start_time": "2023-03-26T01:38:22.525059",
     "status": "completed"
    },
    "tags": []
   },
   "source": [
    "### Changing categorical variables to 1's and 0's"
   ]
  },
  {
   "cell_type": "code",
   "execution_count": 32,
   "id": "e45510cc",
   "metadata": {
    "execution": {
     "iopub.execute_input": "2023-03-26T01:38:22.622631Z",
     "iopub.status.busy": "2023-03-26T01:38:22.621768Z",
     "iopub.status.idle": "2023-03-26T01:38:22.631175Z",
     "shell.execute_reply": "2023-03-26T01:38:22.630275Z"
    },
    "papermill": {
     "duration": 0.044743,
     "end_time": "2023-03-26T01:38:22.633618",
     "exception": false,
     "start_time": "2023-03-26T01:38:22.588875",
     "status": "completed"
    },
    "tags": []
   },
   "outputs": [],
   "source": [
    "df['Female'] = pd.Series(np.where(df.gender.values == 'Female', 1, 0),df.index)\n",
    "df = df.drop('gender',axis=1)"
   ]
  },
  {
   "cell_type": "markdown",
   "id": "8028ea3c",
   "metadata": {
    "papermill": {
     "duration": 0.032045,
     "end_time": "2023-03-26T01:38:22.698174",
     "exception": false,
     "start_time": "2023-03-26T01:38:22.666129",
     "status": "completed"
    },
    "tags": []
   },
   "source": [
    "### Converting yes and no."
   ]
  },
  {
   "cell_type": "code",
   "execution_count": 33,
   "id": "952aa29d",
   "metadata": {
    "execution": {
     "iopub.execute_input": "2023-03-26T01:38:22.763425Z",
     "iopub.status.busy": "2023-03-26T01:38:22.762241Z",
     "iopub.status.idle": "2023-03-26T01:38:22.788019Z",
     "shell.execute_reply": "2023-03-26T01:38:22.786794Z"
    },
    "papermill": {
     "duration": 0.060588,
     "end_time": "2023-03-26T01:38:22.790292",
     "exception": false,
     "start_time": "2023-03-26T01:38:22.729704",
     "status": "completed"
    },
    "tags": []
   },
   "outputs": [],
   "source": [
    "for i in ['Partner','Dependents','PhoneService','MultipleLines','OnlineSecurity','OnlineBackup','DeviceProtection','TechSupport','StreamingTV','StreamingMovies','PaperlessBilling','Churn']:\n",
    "    df[i] = df[i].map({'Yes': 1, 'No': 0})"
   ]
  },
  {
   "cell_type": "code",
   "execution_count": 34,
   "id": "9f058132",
   "metadata": {
    "execution": {
     "iopub.execute_input": "2023-03-26T01:38:22.854790Z",
     "iopub.status.busy": "2023-03-26T01:38:22.853685Z",
     "iopub.status.idle": "2023-03-26T01:38:22.862719Z",
     "shell.execute_reply": "2023-03-26T01:38:22.861069Z"
    },
    "papermill": {
     "duration": 0.044278,
     "end_time": "2023-03-26T01:38:22.865462",
     "exception": false,
     "start_time": "2023-03-26T01:38:22.821184",
     "status": "completed"
    },
    "tags": []
   },
   "outputs": [],
   "source": [
    "df = df.fillna(0)"
   ]
  },
  {
   "cell_type": "markdown",
   "id": "555240cd",
   "metadata": {
    "papermill": {
     "duration": 0.030595,
     "end_time": "2023-03-26T01:38:22.926783",
     "exception": false,
     "start_time": "2023-03-26T01:38:22.896188",
     "status": "completed"
    },
    "tags": []
   },
   "source": [
    "### One-hot encoding with non-binary categorical columns"
   ]
  },
  {
   "cell_type": "code",
   "execution_count": 35,
   "id": "ed7e997e",
   "metadata": {
    "execution": {
     "iopub.execute_input": "2023-03-26T01:38:22.991545Z",
     "iopub.status.busy": "2023-03-26T01:38:22.990813Z",
     "iopub.status.idle": "2023-03-26T01:38:23.001909Z",
     "shell.execute_reply": "2023-03-26T01:38:23.000773Z"
    },
    "papermill": {
     "duration": 0.04689,
     "end_time": "2023-03-26T01:38:23.004534",
     "exception": false,
     "start_time": "2023-03-26T01:38:22.957644",
     "status": "completed"
    },
    "tags": []
   },
   "outputs": [],
   "source": [
    "df = df.join(pd.get_dummies(df['InternetService'],prefix='InternetService').drop('InternetService_No',axis=1))\n",
    "df=df.drop('InternetService',axis=1)"
   ]
  },
  {
   "cell_type": "code",
   "execution_count": 36,
   "id": "dc89d0e6",
   "metadata": {
    "execution": {
     "iopub.execute_input": "2023-03-26T01:38:23.073355Z",
     "iopub.status.busy": "2023-03-26T01:38:23.072737Z",
     "iopub.status.idle": "2023-03-26T01:38:23.086962Z",
     "shell.execute_reply": "2023-03-26T01:38:23.085487Z"
    },
    "papermill": {
     "duration": 0.050718,
     "end_time": "2023-03-26T01:38:23.089667",
     "exception": false,
     "start_time": "2023-03-26T01:38:23.038949",
     "status": "completed"
    },
    "tags": []
   },
   "outputs": [],
   "source": [
    "df = df.join(pd.get_dummies(df['PaymentMethod'],prefix='PaymentMethod'))\n",
    "df = df.join(pd.get_dummies(df['Contract'],prefix='Contract'))\n",
    "df=df.drop(['PaymentMethod','Contract'],axis=1)"
   ]
  },
  {
   "cell_type": "markdown",
   "id": "239c2f88",
   "metadata": {
    "papermill": {
     "duration": 0.030708,
     "end_time": "2023-03-26T01:38:23.152550",
     "exception": false,
     "start_time": "2023-03-26T01:38:23.121842",
     "status": "completed"
    },
    "tags": []
   },
   "source": [
    "### Removing multicollinearity"
   ]
  },
  {
   "cell_type": "markdown",
   "id": "a0c93cbe",
   "metadata": {
    "papermill": {
     "duration": 0.030343,
     "end_time": "2023-03-26T01:38:23.213535",
     "exception": false,
     "start_time": "2023-03-26T01:38:23.183192",
     "status": "completed"
    },
    "tags": []
   },
   "source": [
    "There are columns that are the results of performing operations on other columns. For example, the monthly charges column is created by multiplying the price of each service by the number of services. The total charges column is the monthly charges multiplied by the tenure."
   ]
  },
  {
   "cell_type": "code",
   "execution_count": 37,
   "id": "3bc18bfa",
   "metadata": {
    "execution": {
     "iopub.execute_input": "2023-03-26T01:38:23.276428Z",
     "iopub.status.busy": "2023-03-26T01:38:23.276051Z",
     "iopub.status.idle": "2023-03-26T01:38:23.300597Z",
     "shell.execute_reply": "2023-03-26T01:38:23.299235Z"
    },
    "papermill": {
     "duration": 0.058411,
     "end_time": "2023-03-26T01:38:23.302701",
     "exception": false,
     "start_time": "2023-03-26T01:38:23.244290",
     "status": "completed"
    },
    "tags": []
   },
   "outputs": [
    {
     "data": {
      "text/html": [
       "<div>\n",
       "<style scoped>\n",
       "    .dataframe tbody tr th:only-of-type {\n",
       "        vertical-align: middle;\n",
       "    }\n",
       "\n",
       "    .dataframe tbody tr th {\n",
       "        vertical-align: top;\n",
       "    }\n",
       "\n",
       "    .dataframe thead th {\n",
       "        text-align: right;\n",
       "    }\n",
       "</style>\n",
       "<table border=\"1\" class=\"dataframe\">\n",
       "  <thead>\n",
       "    <tr style=\"text-align: right;\">\n",
       "      <th></th>\n",
       "      <th>PhoneService</th>\n",
       "      <th>MultipleLines</th>\n",
       "      <th>OnlineSecurity</th>\n",
       "      <th>OnlineBackup</th>\n",
       "      <th>DeviceProtection</th>\n",
       "      <th>TechSupport</th>\n",
       "      <th>StreamingTV</th>\n",
       "      <th>StreamingMovies</th>\n",
       "      <th>InternetService_DSL</th>\n",
       "      <th>InternetService_Fiber optic</th>\n",
       "    </tr>\n",
       "  </thead>\n",
       "  <tbody>\n",
       "    <tr>\n",
       "      <th>0</th>\n",
       "      <td>0</td>\n",
       "      <td>0.0</td>\n",
       "      <td>0.0</td>\n",
       "      <td>1.0</td>\n",
       "      <td>0.0</td>\n",
       "      <td>0.0</td>\n",
       "      <td>0.0</td>\n",
       "      <td>0.0</td>\n",
       "      <td>1</td>\n",
       "      <td>0</td>\n",
       "    </tr>\n",
       "    <tr>\n",
       "      <th>1</th>\n",
       "      <td>1</td>\n",
       "      <td>0.0</td>\n",
       "      <td>1.0</td>\n",
       "      <td>0.0</td>\n",
       "      <td>1.0</td>\n",
       "      <td>0.0</td>\n",
       "      <td>0.0</td>\n",
       "      <td>0.0</td>\n",
       "      <td>1</td>\n",
       "      <td>0</td>\n",
       "    </tr>\n",
       "    <tr>\n",
       "      <th>2</th>\n",
       "      <td>1</td>\n",
       "      <td>0.0</td>\n",
       "      <td>1.0</td>\n",
       "      <td>1.0</td>\n",
       "      <td>0.0</td>\n",
       "      <td>0.0</td>\n",
       "      <td>0.0</td>\n",
       "      <td>0.0</td>\n",
       "      <td>1</td>\n",
       "      <td>0</td>\n",
       "    </tr>\n",
       "    <tr>\n",
       "      <th>3</th>\n",
       "      <td>0</td>\n",
       "      <td>0.0</td>\n",
       "      <td>1.0</td>\n",
       "      <td>0.0</td>\n",
       "      <td>1.0</td>\n",
       "      <td>1.0</td>\n",
       "      <td>0.0</td>\n",
       "      <td>0.0</td>\n",
       "      <td>1</td>\n",
       "      <td>0</td>\n",
       "    </tr>\n",
       "    <tr>\n",
       "      <th>4</th>\n",
       "      <td>1</td>\n",
       "      <td>0.0</td>\n",
       "      <td>0.0</td>\n",
       "      <td>0.0</td>\n",
       "      <td>0.0</td>\n",
       "      <td>0.0</td>\n",
       "      <td>0.0</td>\n",
       "      <td>0.0</td>\n",
       "      <td>0</td>\n",
       "      <td>1</td>\n",
       "    </tr>\n",
       "    <tr>\n",
       "      <th>...</th>\n",
       "      <td>...</td>\n",
       "      <td>...</td>\n",
       "      <td>...</td>\n",
       "      <td>...</td>\n",
       "      <td>...</td>\n",
       "      <td>...</td>\n",
       "      <td>...</td>\n",
       "      <td>...</td>\n",
       "      <td>...</td>\n",
       "      <td>...</td>\n",
       "    </tr>\n",
       "    <tr>\n",
       "      <th>7038</th>\n",
       "      <td>1</td>\n",
       "      <td>1.0</td>\n",
       "      <td>1.0</td>\n",
       "      <td>0.0</td>\n",
       "      <td>1.0</td>\n",
       "      <td>1.0</td>\n",
       "      <td>1.0</td>\n",
       "      <td>1.0</td>\n",
       "      <td>1</td>\n",
       "      <td>0</td>\n",
       "    </tr>\n",
       "    <tr>\n",
       "      <th>7039</th>\n",
       "      <td>1</td>\n",
       "      <td>1.0</td>\n",
       "      <td>0.0</td>\n",
       "      <td>1.0</td>\n",
       "      <td>1.0</td>\n",
       "      <td>0.0</td>\n",
       "      <td>1.0</td>\n",
       "      <td>1.0</td>\n",
       "      <td>0</td>\n",
       "      <td>1</td>\n",
       "    </tr>\n",
       "    <tr>\n",
       "      <th>7040</th>\n",
       "      <td>0</td>\n",
       "      <td>0.0</td>\n",
       "      <td>1.0</td>\n",
       "      <td>0.0</td>\n",
       "      <td>0.0</td>\n",
       "      <td>0.0</td>\n",
       "      <td>0.0</td>\n",
       "      <td>0.0</td>\n",
       "      <td>1</td>\n",
       "      <td>0</td>\n",
       "    </tr>\n",
       "    <tr>\n",
       "      <th>7041</th>\n",
       "      <td>1</td>\n",
       "      <td>1.0</td>\n",
       "      <td>0.0</td>\n",
       "      <td>0.0</td>\n",
       "      <td>0.0</td>\n",
       "      <td>0.0</td>\n",
       "      <td>0.0</td>\n",
       "      <td>0.0</td>\n",
       "      <td>0</td>\n",
       "      <td>1</td>\n",
       "    </tr>\n",
       "    <tr>\n",
       "      <th>7042</th>\n",
       "      <td>1</td>\n",
       "      <td>0.0</td>\n",
       "      <td>1.0</td>\n",
       "      <td>0.0</td>\n",
       "      <td>1.0</td>\n",
       "      <td>1.0</td>\n",
       "      <td>1.0</td>\n",
       "      <td>1.0</td>\n",
       "      <td>0</td>\n",
       "      <td>1</td>\n",
       "    </tr>\n",
       "  </tbody>\n",
       "</table>\n",
       "<p>7043 rows × 10 columns</p>\n",
       "</div>"
      ],
      "text/plain": [
       "      PhoneService  MultipleLines  OnlineSecurity  OnlineBackup  \\\n",
       "0                0            0.0             0.0           1.0   \n",
       "1                1            0.0             1.0           0.0   \n",
       "2                1            0.0             1.0           1.0   \n",
       "3                0            0.0             1.0           0.0   \n",
       "4                1            0.0             0.0           0.0   \n",
       "...            ...            ...             ...           ...   \n",
       "7038             1            1.0             1.0           0.0   \n",
       "7039             1            1.0             0.0           1.0   \n",
       "7040             0            0.0             1.0           0.0   \n",
       "7041             1            1.0             0.0           0.0   \n",
       "7042             1            0.0             1.0           0.0   \n",
       "\n",
       "      DeviceProtection  TechSupport  StreamingTV  StreamingMovies  \\\n",
       "0                  0.0          0.0          0.0              0.0   \n",
       "1                  1.0          0.0          0.0              0.0   \n",
       "2                  0.0          0.0          0.0              0.0   \n",
       "3                  1.0          1.0          0.0              0.0   \n",
       "4                  0.0          0.0          0.0              0.0   \n",
       "...                ...          ...          ...              ...   \n",
       "7038               1.0          1.0          1.0              1.0   \n",
       "7039               1.0          0.0          1.0              1.0   \n",
       "7040               0.0          0.0          0.0              0.0   \n",
       "7041               0.0          0.0          0.0              0.0   \n",
       "7042               1.0          1.0          1.0              1.0   \n",
       "\n",
       "      InternetService_DSL  InternetService_Fiber optic  \n",
       "0                       1                            0  \n",
       "1                       1                            0  \n",
       "2                       1                            0  \n",
       "3                       1                            0  \n",
       "4                       0                            1  \n",
       "...                   ...                          ...  \n",
       "7038                    1                            0  \n",
       "7039                    0                            1  \n",
       "7040                    1                            0  \n",
       "7041                    0                            1  \n",
       "7042                    0                            1  \n",
       "\n",
       "[7043 rows x 10 columns]"
      ]
     },
     "execution_count": 37,
     "metadata": {},
     "output_type": "execute_result"
    }
   ],
   "source": [
    "df[df.columns[5:-7]].drop(['PaperlessBilling','MonthlyCharges','TotalCharges','Churn','Female'],axis=1)"
   ]
  },
  {
   "cell_type": "markdown",
   "id": "d2d53f6d",
   "metadata": {
    "papermill": {
     "duration": 0.030947,
     "end_time": "2023-03-26T01:38:23.364790",
     "exception": false,
     "start_time": "2023-03-26T01:38:23.333843",
     "status": "completed"
    },
    "tags": []
   },
   "source": [
    "#### Modeling the monthly charges."
   ]
  },
  {
   "cell_type": "code",
   "execution_count": 38,
   "id": "38fa4492",
   "metadata": {
    "execution": {
     "iopub.execute_input": "2023-03-26T01:38:23.430235Z",
     "iopub.status.busy": "2023-03-26T01:38:23.429837Z",
     "iopub.status.idle": "2023-03-26T01:38:24.966555Z",
     "shell.execute_reply": "2023-03-26T01:38:24.965421Z"
    },
    "papermill": {
     "duration": 1.572536,
     "end_time": "2023-03-26T01:38:24.969232",
     "exception": false,
     "start_time": "2023-03-26T01:38:23.396696",
     "status": "completed"
    },
    "tags": []
   },
   "outputs": [
    {
     "name": "stdout",
     "output_type": "stream",
     "text": [
      "                                 OLS Regression Results                                \n",
      "=======================================================================================\n",
      "Dep. Variable:         MonthlyCharges   R-squared (uncentered):                   1.000\n",
      "Model:                            OLS   Adj. R-squared (uncentered):              1.000\n",
      "Method:                 Least Squares   F-statistic:                          3.413e+06\n",
      "Date:                Sun, 26 Mar 2023   Prob (F-statistic):                        0.00\n",
      "Time:                        01:38:24   Log-Likelihood:                         -10167.\n",
      "No. Observations:                7043   AIC:                                  2.035e+04\n",
      "Df Residuals:                    7033   BIC:                                  2.042e+04\n",
      "Df Model:                          10                                                  \n",
      "Covariance Type:            nonrobust                                                  \n",
      "===============================================================================================\n",
      "                                  coef    std err          t      P>|t|      [0.025      0.975]\n",
      "-----------------------------------------------------------------------------------------------\n",
      "PhoneService                   19.9780      0.024    830.788      0.000      19.931      20.025\n",
      "MultipleLines                   5.0167      0.028    178.879      0.000       4.962       5.072\n",
      "OnlineSecurity                  5.0156      0.031    162.802      0.000       4.955       5.076\n",
      "OnlineBackup                    4.9914      0.029    171.232      0.000       4.934       5.049\n",
      "DeviceProtection                5.0197      0.030    164.790      0.000       4.960       5.079\n",
      "TechSupport                     5.0313      0.031    159.943      0.000       4.970       5.093\n",
      "StreamingTV                     9.9675      0.032    314.394      0.000       9.905      10.030\n",
      "StreamingMovies                 9.9609      0.032    313.857      0.000       9.899      10.023\n",
      "InternetService_DSL            25.0040      0.034    725.253      0.000      24.936      25.072\n",
      "InternetService_Fiber optic    49.9823      0.037   1355.345      0.000      49.910      50.055\n",
      "==============================================================================\n",
      "Omnibus:                      129.993   Durbin-Watson:                   1.972\n",
      "Prob(Omnibus):                  0.000   Jarque-Bera (JB):              259.846\n",
      "Skew:                           0.068   Prob(JB):                     3.76e-57\n",
      "Kurtosis:                       3.931   Cond. No.                         6.31\n",
      "==============================================================================\n",
      "\n",
      "Notes:\n",
      "[1] R² is computed without centering (uncentered) since the model does not contain a constant.\n",
      "[2] Standard Errors assume that the covariance matrix of the errors is correctly specified.\n"
     ]
    }
   ],
   "source": [
    "import statsmodels.api as sm \n",
    "sX = df[df.columns[5:-7]].drop(['PaperlessBilling','MonthlyCharges','TotalCharges','Churn','Female'],axis=1)\n",
    "sy = df.MonthlyCharges\n",
    "model = sm.OLS(sy, sX)\n",
    "results = model.fit()\n",
    "print(results.summary())"
   ]
  },
  {
   "cell_type": "markdown",
   "id": "570d18e1",
   "metadata": {
    "papermill": {
     "duration": 0.041932,
     "end_time": "2023-03-26T01:38:25.053116",
     "exception": false,
     "start_time": "2023-03-26T01:38:25.011184",
     "status": "completed"
    },
    "tags": []
   },
   "source": [
    "According to this chart, the monthly prices of the services are the following:\n",
    "* phone service: 20\n",
    "* multiple lines: 5\n",
    "* online security: 5\n",
    "* online backup: 5\n",
    "* device protection: 5\n",
    "* tech support: 5\n",
    "* streaming TV: 10\n",
    "* streaming movies: 10\n",
    "* DSL internet: 25\n",
    "* fiber internet: 50 \n",
    "$\\newline$\n",
    "Because the p-value of the above model is less than $\\alpha$=0.05, I can conclude that there is a linear relationship between all the services and the monthly charges."
   ]
  },
  {
   "cell_type": "markdown",
   "id": "138bb0bd",
   "metadata": {
    "papermill": {
     "duration": 0.031835,
     "end_time": "2023-03-26T01:38:25.120646",
     "exception": false,
     "start_time": "2023-03-26T01:38:25.088811",
     "status": "completed"
    },
    "tags": []
   },
   "source": [
    "#### Modeling the total charges."
   ]
  },
  {
   "cell_type": "markdown",
   "id": "e4ab0adc",
   "metadata": {
    "papermill": {
     "duration": 0.031252,
     "end_time": "2023-03-26T01:38:25.183661",
     "exception": false,
     "start_time": "2023-03-26T01:38:25.152409",
     "status": "completed"
    },
    "tags": []
   },
   "source": [
    "Now I can find whether there is a relationship between the total charges."
   ]
  },
  {
   "cell_type": "code",
   "execution_count": 39,
   "id": "fd7c40e6",
   "metadata": {
    "execution": {
     "iopub.execute_input": "2023-03-26T01:38:25.249056Z",
     "iopub.status.busy": "2023-03-26T01:38:25.248635Z",
     "iopub.status.idle": "2023-03-26T01:38:25.270984Z",
     "shell.execute_reply": "2023-03-26T01:38:25.270149Z"
    },
    "papermill": {
     "duration": 0.059624,
     "end_time": "2023-03-26T01:38:25.274673",
     "exception": false,
     "start_time": "2023-03-26T01:38:25.215049",
     "status": "completed"
    },
    "tags": []
   },
   "outputs": [
    {
     "name": "stdout",
     "output_type": "stream",
     "text": [
      "                            OLS Regression Results                            \n",
      "==============================================================================\n",
      "Dep. Variable:           TotalCharges   R-squared:                       0.999\n",
      "Model:                            OLS   Adj. R-squared:                  0.999\n",
      "Method:                 Least Squares   F-statistic:                 8.006e+06\n",
      "Date:                Sun, 26 Mar 2023   Prob (F-statistic):               0.00\n",
      "Time:                        01:38:25   Log-Likelihood:                -39627.\n",
      "No. Observations:                7043   AIC:                         7.926e+04\n",
      "Df Residuals:                    7041   BIC:                         7.927e+04\n",
      "Df Model:                           1                                         \n",
      "Covariance Type:            nonrobust                                         \n",
      "=========================================================================================\n",
      "                            coef    std err          t      P>|t|      [0.025      0.975]\n",
      "-----------------------------------------------------------------------------------------\n",
      "Intercept                -0.9229      1.136     -0.812      0.417      -3.150       1.304\n",
      "MonthlyCharges:tenure     1.0005      0.000   2829.477      0.000       1.000       1.001\n",
      "==============================================================================\n",
      "Omnibus:                      538.795   Durbin-Watson:                   2.055\n",
      "Prob(Omnibus):                  0.000   Jarque-Bera (JB):             3067.278\n",
      "Skew:                          -0.034   Prob(JB):                         0.00\n",
      "Kurtosis:                       6.232   Cond. No.                     4.56e+03\n",
      "==============================================================================\n",
      "\n",
      "Notes:\n",
      "[1] Standard Errors assume that the covariance matrix of the errors is correctly specified.\n",
      "[2] The condition number is large, 4.56e+03. This might indicate that there are\n",
      "strong multicollinearity or other numerical problems.\n"
     ]
    }
   ],
   "source": [
    "from statsmodels.formula.api import ols\n",
    "GLMmodel = ols(\"TotalCharges ~  MonthlyCharges: tenure\"  , data = df)\n",
    "res = GLMmodel.fit()\n",
    "print(res.summary())"
   ]
  },
  {
   "cell_type": "markdown",
   "id": "43c860c9",
   "metadata": {
    "papermill": {
     "duration": 0.045642,
     "end_time": "2023-03-26T01:38:25.367160",
     "exception": false,
     "start_time": "2023-03-26T01:38:25.321518",
     "status": "completed"
    },
    "tags": []
   },
   "source": [
    "Since the p-value for this model is less than $\\alpha$=0.05, I can conclude that the formula for total charges is monthly charges multiplied by tenure."
   ]
  },
  {
   "cell_type": "code",
   "execution_count": 40,
   "id": "9b7ca598",
   "metadata": {
    "execution": {
     "iopub.execute_input": "2023-03-26T01:38:25.437654Z",
     "iopub.status.busy": "2023-03-26T01:38:25.437235Z",
     "iopub.status.idle": "2023-03-26T01:38:25.766860Z",
     "shell.execute_reply": "2023-03-26T01:38:25.765412Z"
    },
    "papermill": {
     "duration": 0.365921,
     "end_time": "2023-03-26T01:38:25.769577",
     "exception": false,
     "start_time": "2023-03-26T01:38:25.403656",
     "status": "completed"
    },
    "tags": []
   },
   "outputs": [],
   "source": [
    "from statsmodels.stats.outliers_influence import variance_inflation_factor\n",
    "import matplotlib.pyplot as plt\n",
    "import seaborn as sns\n",
    "X = df[df.columns[5:-7]].drop(['PaperlessBilling','MonthlyCharges','TotalCharges','Churn','Female'],axis=1)\n",
    "for i in range(len(np.where(X.corr() > .6)[0])):\n",
    "    if np.where(X.corr() > .6)[0][i] != np.where(X.corr() > .6)[1][i]:\n",
    "        print(X.corr().columns[np.where(X.corr() > .6)[1][i]],X.corr().columns[np.where(X.corr() > .6)[0][i]])"
   ]
  },
  {
   "cell_type": "markdown",
   "id": "00bb8332",
   "metadata": {
    "papermill": {
     "duration": 0.033846,
     "end_time": "2023-03-26T01:38:25.835659",
     "exception": false,
     "start_time": "2023-03-26T01:38:25.801813",
     "status": "completed"
    },
    "tags": []
   },
   "source": [
    "Now I can use the variance inflation factor to calculate which columns are correlated with each other."
   ]
  },
  {
   "cell_type": "code",
   "execution_count": 41,
   "id": "123b4992",
   "metadata": {
    "execution": {
     "iopub.execute_input": "2023-03-26T01:38:25.901465Z",
     "iopub.status.busy": "2023-03-26T01:38:25.901136Z",
     "iopub.status.idle": "2023-03-26T01:38:25.968356Z",
     "shell.execute_reply": "2023-03-26T01:38:25.967595Z"
    },
    "papermill": {
     "duration": 0.102236,
     "end_time": "2023-03-26T01:38:25.970272",
     "exception": false,
     "start_time": "2023-03-26T01:38:25.868036",
     "status": "completed"
    },
    "tags": []
   },
   "outputs": [
    {
     "data": {
      "text/plain": [
       "10"
      ]
     },
     "execution_count": 41,
     "metadata": {},
     "output_type": "execute_result"
    }
   ],
   "source": [
    "\n",
    "vif = [[var,variance_inflation_factor(X.values, X.columns.get_loc(var))] for var in X.columns]\n",
    "len(X[np.array(list(filter(lambda x: x[1] < 5, vif)))[:,0]].columns)"
   ]
  },
  {
   "cell_type": "code",
   "execution_count": 42,
   "id": "d9261b6c",
   "metadata": {
    "execution": {
     "iopub.execute_input": "2023-03-26T01:38:26.056591Z",
     "iopub.status.busy": "2023-03-26T01:38:26.056165Z",
     "iopub.status.idle": "2023-03-26T01:38:26.062223Z",
     "shell.execute_reply": "2023-03-26T01:38:26.061453Z"
    },
    "papermill": {
     "duration": 0.052862,
     "end_time": "2023-03-26T01:38:26.065129",
     "exception": false,
     "start_time": "2023-03-26T01:38:26.012267",
     "status": "completed"
    },
    "tags": []
   },
   "outputs": [
    {
     "data": {
      "text/plain": [
       "10"
      ]
     },
     "execution_count": 42,
     "metadata": {},
     "output_type": "execute_result"
    }
   ],
   "source": [
    "len(X.columns)"
   ]
  },
  {
   "cell_type": "markdown",
   "id": "da1f4558",
   "metadata": {
    "papermill": {
     "duration": 0.032254,
     "end_time": "2023-03-26T01:38:26.133506",
     "exception": false,
     "start_time": "2023-03-26T01:38:26.101252",
     "status": "completed"
    },
    "tags": []
   },
   "source": [
    "It seems like none of the columns are correlated with each other, so I can use all of them in the model."
   ]
  },
  {
   "cell_type": "markdown",
   "id": "2bfb9fed",
   "metadata": {
    "papermill": {
     "duration": 0.032935,
     "end_time": "2023-03-26T01:38:26.199066",
     "exception": false,
     "start_time": "2023-03-26T01:38:26.166131",
     "status": "completed"
    },
    "tags": []
   },
   "source": [
    "## Predicting customer churn"
   ]
  },
  {
   "cell_type": "markdown",
   "id": "731c7842",
   "metadata": {
    "papermill": {
     "duration": 0.031894,
     "end_time": "2023-03-26T01:38:26.263457",
     "exception": false,
     "start_time": "2023-03-26T01:38:26.231563",
     "status": "completed"
    },
    "tags": []
   },
   "source": [
    "### Logistic Regression"
   ]
  },
  {
   "cell_type": "code",
   "execution_count": 43,
   "id": "ec40f94c",
   "metadata": {
    "execution": {
     "iopub.execute_input": "2023-03-26T01:38:26.332293Z",
     "iopub.status.busy": "2023-03-26T01:38:26.331966Z",
     "iopub.status.idle": "2023-03-26T01:39:04.222800Z",
     "shell.execute_reply": "2023-03-26T01:39:04.221426Z"
    },
    "papermill": {
     "duration": 37.960432,
     "end_time": "2023-03-26T01:39:04.255927",
     "exception": false,
     "start_time": "2023-03-26T01:38:26.295495",
     "status": "completed"
    },
    "tags": []
   },
   "outputs": [
    {
     "data": {
      "text/plain": [
       "array([1., 1., 1., 1., 1.])"
      ]
     },
     "execution_count": 43,
     "metadata": {},
     "output_type": "execute_result"
    }
   ],
   "source": [
    "from sklearn.pipeline import Pipeline\n",
    "from sklearn.preprocessing import OneHotEncoder\n",
    "from sklearn.compose import ColumnTransformer\n",
    "from sklearn.ensemble import RandomForestRegressor\n",
    "from sklearn.model_selection import train_test_split, cross_val_score\n",
    "encoder = OneHotEncoder(handle_unknown='ignore', sparse=False)\n",
    "X_train_encoded = encoder.fit_transform(df[df.columns[6:-7]])\n",
    "pd.DataFrame(X_train_encoded,columns=encoder.get_feature_names_out(df[df.columns[6:-7]].columns))\n",
    "pipe = Pipeline(steps =[\n",
    "    ('tf1', OneHotEncoder(handle_unknown='ignore', sparse=False)),\n",
    "    ('model', RandomForestRegressor(n_estimators = 200)),\n",
    "# or LinearRegression, SVR, DecisionTreeRegressor, etc\n",
    "])\n",
    "X_train = pd.DataFrame(X_train_encoded,columns=encoder.get_feature_names_out(df[df.columns[6:-7]].columns))\n",
    "y_train = df.Churn.eq('Yes').mul(1)\n",
    "cross_val_score(pipe, X_train, y_train, cv = 5)"
   ]
  },
  {
   "cell_type": "code",
   "execution_count": 44,
   "id": "1bfcc0be",
   "metadata": {
    "execution": {
     "iopub.execute_input": "2023-03-26T01:39:04.321721Z",
     "iopub.status.busy": "2023-03-26T01:39:04.321393Z",
     "iopub.status.idle": "2023-03-26T01:39:16.616369Z",
     "shell.execute_reply": "2023-03-26T01:39:16.614923Z"
    },
    "papermill": {
     "duration": 12.330624,
     "end_time": "2023-03-26T01:39:16.618659",
     "exception": false,
     "start_time": "2023-03-26T01:39:04.288035",
     "status": "completed"
    },
    "tags": []
   },
   "outputs": [
    {
     "data": {
      "text/plain": [
       "array([0., 0., 0., ..., 0., 0., 0.])"
      ]
     },
     "execution_count": 44,
     "metadata": {},
     "output_type": "execute_result"
    }
   ],
   "source": [
    "pipe.fit(X_train,y_train)\n",
    "pipe.predict(X_train)"
   ]
  },
  {
   "cell_type": "markdown",
   "id": "2aa19e56",
   "metadata": {
    "papermill": {
     "duration": 0.031783,
     "end_time": "2023-03-26T01:39:16.682356",
     "exception": false,
     "start_time": "2023-03-26T01:39:16.650573",
     "status": "completed"
    },
    "tags": []
   },
   "source": [
    "## Now to implement the tactics"
   ]
  },
  {
   "cell_type": "markdown",
   "id": "be578a1b",
   "metadata": {
    "papermill": {
     "duration": 0.032089,
     "end_time": "2023-03-26T01:39:16.747453",
     "exception": false,
     "start_time": "2023-03-26T01:39:16.715364",
     "status": "completed"
    },
    "tags": []
   },
   "source": [
    "The original questions asked in the beginning of the notebook is how to increase the revenue of a company. To do that, I will have to find out which features lead to churn. For that, I will have to look at which services are causing churn. If a feature has a high feature importance, then it is leading to churn. If a feature has low feature importance, then a lack of it leads to churn. "
   ]
  },
  {
   "cell_type": "code",
   "execution_count": 45,
   "id": "6f5f7534",
   "metadata": {
    "execution": {
     "iopub.execute_input": "2023-03-26T01:39:16.814501Z",
     "iopub.status.busy": "2023-03-26T01:39:16.813950Z",
     "iopub.status.idle": "2023-03-26T01:39:16.843508Z",
     "shell.execute_reply": "2023-03-26T01:39:16.842552Z"
    },
    "papermill": {
     "duration": 0.06575,
     "end_time": "2023-03-26T01:39:16.845546",
     "exception": false,
     "start_time": "2023-03-26T01:39:16.779796",
     "status": "completed"
    },
    "tags": []
   },
   "outputs": [
    {
     "data": {
      "text/html": [
       "<div>\n",
       "<style scoped>\n",
       "    .dataframe tbody tr th:only-of-type {\n",
       "        vertical-align: middle;\n",
       "    }\n",
       "\n",
       "    .dataframe tbody tr th {\n",
       "        vertical-align: top;\n",
       "    }\n",
       "\n",
       "    .dataframe thead th {\n",
       "        text-align: right;\n",
       "    }\n",
       "</style>\n",
       "<table border=\"1\" class=\"dataframe\">\n",
       "  <thead>\n",
       "    <tr style=\"text-align: right;\">\n",
       "      <th></th>\n",
       "      <th>feature</th>\n",
       "      <th>importance</th>\n",
       "    </tr>\n",
       "  </thead>\n",
       "  <tbody>\n",
       "    <tr>\n",
       "      <th>2</th>\n",
       "      <td>OnlineSecurity</td>\n",
       "      <td>-0.939468</td>\n",
       "    </tr>\n",
       "    <tr>\n",
       "      <th>5</th>\n",
       "      <td>TechSupport</td>\n",
       "      <td>-0.849165</td>\n",
       "    </tr>\n",
       "    <tr>\n",
       "      <th>3</th>\n",
       "      <td>OnlineBackup</td>\n",
       "      <td>-0.599283</td>\n",
       "    </tr>\n",
       "    <tr>\n",
       "      <th>4</th>\n",
       "      <td>DeviceProtection</td>\n",
       "      <td>-0.483429</td>\n",
       "    </tr>\n",
       "    <tr>\n",
       "      <th>0</th>\n",
       "      <td>PhoneService</td>\n",
       "      <td>-0.355954</td>\n",
       "    </tr>\n",
       "    <tr>\n",
       "      <th>1</th>\n",
       "      <td>MultipleLines</td>\n",
       "      <td>-0.138677</td>\n",
       "    </tr>\n",
       "    <tr>\n",
       "      <th>6</th>\n",
       "      <td>StreamingTV</td>\n",
       "      <td>0.04501</td>\n",
       "    </tr>\n",
       "    <tr>\n",
       "      <th>7</th>\n",
       "      <td>StreamingMovies</td>\n",
       "      <td>0.045122</td>\n",
       "    </tr>\n",
       "    <tr>\n",
       "      <th>8</th>\n",
       "      <td>InternetService_DSL</td>\n",
       "      <td>1.977344</td>\n",
       "    </tr>\n",
       "    <tr>\n",
       "      <th>9</th>\n",
       "      <td>InternetService_Fiber optic</td>\n",
       "      <td>3.038483</td>\n",
       "    </tr>\n",
       "  </tbody>\n",
       "</table>\n",
       "</div>"
      ],
      "text/plain": [
       "                       feature importance\n",
       "2               OnlineSecurity  -0.939468\n",
       "5                  TechSupport  -0.849165\n",
       "3                 OnlineBackup  -0.599283\n",
       "4             DeviceProtection  -0.483429\n",
       "0                 PhoneService  -0.355954\n",
       "1                MultipleLines  -0.138677\n",
       "6                  StreamingTV    0.04501\n",
       "7              StreamingMovies   0.045122\n",
       "8          InternetService_DSL   1.977344\n",
       "9  InternetService_Fiber optic   3.038483"
      ]
     },
     "execution_count": 45,
     "metadata": {},
     "output_type": "execute_result"
    }
   ],
   "source": [
    "from sklearn.linear_model import LogisticRegression\n",
    "lr = LogisticRegression()\n",
    "lr.fit(X,df.Churn)\n",
    "feature_importance = pd.DataFrame(np.array([X.columns,lr.coef_[0]]).T).sort_values(1)\n",
    "keep = X.columns\n",
    "feature_importance[feature_importance[0].str.contains('|'.join(keep))]\n",
    "feature_importance.columns = ['feature','importance']\n",
    "feature_importance"
   ]
  },
  {
   "cell_type": "markdown",
   "id": "3cceb093",
   "metadata": {
    "papermill": {
     "duration": 0.042157,
     "end_time": "2023-03-26T01:39:16.930364",
     "exception": false,
     "start_time": "2023-03-26T01:39:16.888207",
     "status": "completed"
    },
    "tags": []
   },
   "source": [
    "A lower feature importance value means that the increasing that variable leads to decreasing the target variable. In this case, it means including this variable leads to decreasing the churn. Phone service, a two-year contract, and online security have the lowest feature importance values. Whereas, fiber optic, a month-to-month contract, and paperless billing have the highest feature values. This means that these features are the most related to churn. "
   ]
  },
  {
   "cell_type": "markdown",
   "id": "7a68175a",
   "metadata": {
    "papermill": {
     "duration": 0.031129,
     "end_time": "2023-03-26T01:39:16.998088",
     "exception": false,
     "start_time": "2023-03-26T01:39:16.966959",
     "status": "completed"
    },
    "tags": []
   },
   "source": [
    "While there is no one-size-fits-all approach to reducing churn in the telecom industry, some of the factors mentioned above can have an impact on customer retention.\n",
    "\n",
    "For example, offering a two-year contract can help lock in customers and prevent them from churning to other providers. Providing tech support and online security can also help customers feel more secure and satisfied with their service, leading to lower churn rates and thus, more revenue for the company.\n",
    "\n",
    "On the other hand, offering a month-to-month contract may make it easier for customers to switch providers if they find a better deal elsewhere. Additionally, paperless billing and multiple lines may not be enough to retain customers if they are not satisfied with the overall quality of the service or if they have had negative experiences with customer support.\n",
    "\n",
    "Ultimately, reducing churn in the telecom industry requires a customer-centric approach that focuses on understanding customers' needs and preferences, providing high-quality service, and continuously improving the customer experience. This may involve offering flexible contracts, investing in network quality and infrastructure, providing excellent customer support, and offering competitive pricing and promotions that meet customers' evolving needs."
   ]
  },
  {
   "cell_type": "markdown",
   "id": "66df90f2",
   "metadata": {
    "papermill": {
     "duration": 0.031118,
     "end_time": "2023-03-26T01:39:17.061145",
     "exception": false,
     "start_time": "2023-03-26T01:39:17.030027",
     "status": "completed"
    },
    "tags": []
   },
   "source": [
    "# Tactics\n",
    "<a id = \"tactics\"></a>"
   ]
  },
  {
   "cell_type": "markdown",
   "id": "7b9a8195",
   "metadata": {
    "papermill": {
     "duration": 0.031232,
     "end_time": "2023-03-26T01:39:17.123932",
     "exception": false,
     "start_time": "2023-03-26T01:39:17.092700",
     "status": "completed"
    },
    "tags": []
   },
   "source": [
    "To show how much including a service will increase revenue, I will have to predict the model with the customers who have churned and lack that service. I will have to find the sum of the monthly charges of those who will have not churned if the service was present but have churned because the service is absent."
   ]
  },
  {
   "cell_type": "code",
   "execution_count": 46,
   "id": "2ae5ed70",
   "metadata": {
    "execution": {
     "iopub.execute_input": "2023-03-26T01:39:17.188765Z",
     "iopub.status.busy": "2023-03-26T01:39:17.188406Z",
     "iopub.status.idle": "2023-03-26T01:39:17.195299Z",
     "shell.execute_reply": "2023-03-26T01:39:17.194166Z"
    },
    "papermill": {
     "duration": 0.042062,
     "end_time": "2023-03-26T01:39:17.197450",
     "exception": false,
     "start_time": "2023-03-26T01:39:17.155388",
     "status": "completed"
    },
    "tags": []
   },
   "outputs": [],
   "source": [
    "def show_profit_of_tactic(df,col):\n",
    "    \"\"\"\n",
    "    Take a column and show how much including that service will increase the revenue of the company.\n",
    "    \"\"\"\n",
    "    X = df[(df[col]== 0) & (df.Churn == 1)].drop(['Churn','MonthlyCharges'],axis=1) \n",
    "    y = lr.predict(X)\n",
    "    dft = X\n",
    "    dft['y'] = y\n",
    "    dft['MonthlyCharges'] = df[(df[col]== 0) & (df.Churn == 1)].MonthlyCharges\n",
    "    return sum(dft[dft.y == 0].MonthlyCharges)"
   ]
  },
  {
   "cell_type": "markdown",
   "id": "7b7580fb",
   "metadata": {
    "papermill": {
     "duration": 0.032963,
     "end_time": "2023-03-26T01:39:17.263388",
     "exception": false,
     "start_time": "2023-03-26T01:39:17.230425",
     "status": "completed"
    },
    "tags": []
   },
   "source": [
    "### Tactic 1\n",
    "<a id = \"t1\"></a>"
   ]
  },
  {
   "cell_type": "markdown",
   "id": "5136abf6",
   "metadata": {
    "papermill": {
     "duration": 0.03228,
     "end_time": "2023-03-26T01:39:17.328230",
     "exception": false,
     "start_time": "2023-03-26T01:39:17.295950",
     "status": "completed"
    },
    "tags": []
   },
   "source": [
    "I will try modeling the revenue when phone service is included for those without phone service."
   ]
  },
  {
   "cell_type": "code",
   "execution_count": 47,
   "id": "8679f417",
   "metadata": {
    "execution": {
     "iopub.execute_input": "2023-03-26T01:39:17.394614Z",
     "iopub.status.busy": "2023-03-26T01:39:17.394269Z",
     "iopub.status.idle": "2023-03-26T01:39:17.401351Z",
     "shell.execute_reply": "2023-03-26T01:39:17.400354Z"
    },
    "papermill": {
     "duration": 0.042881,
     "end_time": "2023-03-26T01:39:17.403281",
     "exception": false,
     "start_time": "2023-03-26T01:39:17.360400",
     "status": "completed"
    },
    "tags": []
   },
   "outputs": [],
   "source": [
    "df = df[['PhoneService', 'MultipleLines', 'OnlineSecurity', 'OnlineBackup',\n",
    "       'DeviceProtection', 'TechSupport', 'StreamingTV', 'StreamingMovies',\n",
    "       'InternetService_DSL', 'InternetService_Fiber optic','Churn','MonthlyCharges']]"
   ]
  },
  {
   "cell_type": "code",
   "execution_count": 48,
   "id": "f8872b5c",
   "metadata": {
    "execution": {
     "iopub.execute_input": "2023-03-26T01:39:17.474568Z",
     "iopub.status.busy": "2023-03-26T01:39:17.472816Z",
     "iopub.status.idle": "2023-03-26T01:39:17.487520Z",
     "shell.execute_reply": "2023-03-26T01:39:17.486215Z"
    },
    "papermill": {
     "duration": 0.053222,
     "end_time": "2023-03-26T01:39:17.490360",
     "exception": false,
     "start_time": "2023-03-26T01:39:17.437138",
     "status": "completed"
    },
    "tags": []
   },
   "outputs": [
    {
     "data": {
      "text/plain": [
       "6380.749999999998"
      ]
     },
     "execution_count": 48,
     "metadata": {},
     "output_type": "execute_result"
    }
   ],
   "source": [
    "show_profit_of_tactic(df,'PhoneService')"
   ]
  },
  {
   "cell_type": "markdown",
   "id": "1fdbe32a",
   "metadata": {
    "papermill": {
     "duration": 0.031869,
     "end_time": "2023-03-26T01:39:17.554575",
     "exception": false,
     "start_time": "2023-03-26T01:39:17.522706",
     "status": "completed"
    },
    "tags": []
   },
   "source": [
    "The company can gain $3,356.64 from adding phone service."
   ]
  },
  {
   "cell_type": "markdown",
   "id": "a6024427",
   "metadata": {
    "papermill": {
     "duration": 0.031583,
     "end_time": "2023-03-26T01:39:17.617832",
     "exception": false,
     "start_time": "2023-03-26T01:39:17.586249",
     "status": "completed"
    },
    "tags": []
   },
   "source": [
    "## Tactic 2"
   ]
  },
  {
   "cell_type": "markdown",
   "id": "93115da5",
   "metadata": {
    "papermill": {
     "duration": 0.031714,
     "end_time": "2023-03-26T01:39:17.681694",
     "exception": false,
     "start_time": "2023-03-26T01:39:17.649980",
     "status": "completed"
    },
    "tags": []
   },
   "source": [
    "In this section, I will be modeling whether adding tech support will lead to an increase in revenue."
   ]
  },
  {
   "cell_type": "code",
   "execution_count": 49,
   "id": "9f3a9c6e",
   "metadata": {
    "execution": {
     "iopub.execute_input": "2023-03-26T01:39:17.748941Z",
     "iopub.status.busy": "2023-03-26T01:39:17.748597Z",
     "iopub.status.idle": "2023-03-26T01:39:17.769047Z",
     "shell.execute_reply": "2023-03-26T01:39:17.767911Z"
    },
    "papermill": {
     "duration": 0.056831,
     "end_time": "2023-03-26T01:39:17.771522",
     "exception": false,
     "start_time": "2023-03-26T01:39:17.714691",
     "status": "completed"
    },
    "tags": []
   },
   "outputs": [
    {
     "data": {
      "text/plain": [
       "53975.85000000003"
      ]
     },
     "execution_count": 49,
     "metadata": {},
     "output_type": "execute_result"
    }
   ],
   "source": [
    "show_profit_of_tactic(df,'TechSupport')"
   ]
  },
  {
   "cell_type": "markdown",
   "id": "5b3b4de9",
   "metadata": {
    "papermill": {
     "duration": 0.044369,
     "end_time": "2023-03-26T01:39:17.859646",
     "exception": false,
     "start_time": "2023-03-26T01:39:17.815277",
     "status": "completed"
    },
    "tags": []
   },
   "source": [
    "The company will gain $36,905 from adding tech support."
   ]
  },
  {
   "cell_type": "markdown",
   "id": "8dd45aa6",
   "metadata": {
    "papermill": {
     "duration": 0.031911,
     "end_time": "2023-03-26T01:39:17.927374",
     "exception": false,
     "start_time": "2023-03-26T01:39:17.895463",
     "status": "completed"
    },
    "tags": []
   },
   "source": [
    "### Services"
   ]
  },
  {
   "cell_type": "code",
   "execution_count": 50,
   "id": "2a8454d9",
   "metadata": {
    "execution": {
     "iopub.execute_input": "2023-03-26T01:39:17.994999Z",
     "iopub.status.busy": "2023-03-26T01:39:17.994621Z",
     "iopub.status.idle": "2023-03-26T01:39:18.000617Z",
     "shell.execute_reply": "2023-03-26T01:39:17.999909Z"
    },
    "papermill": {
     "duration": 0.042219,
     "end_time": "2023-03-26T01:39:18.002371",
     "exception": false,
     "start_time": "2023-03-26T01:39:17.960152",
     "status": "completed"
    },
    "tags": []
   },
   "outputs": [
    {
     "data": {
      "text/plain": [
       "Index(['PhoneService', 'MultipleLines', 'OnlineSecurity', 'OnlineBackup',\n",
       "       'DeviceProtection', 'TechSupport', 'StreamingTV', 'StreamingMovies',\n",
       "       'InternetService_DSL', 'InternetService_Fiber optic', 'Churn',\n",
       "       'MonthlyCharges'],\n",
       "      dtype='object')"
      ]
     },
     "execution_count": 50,
     "metadata": {},
     "output_type": "execute_result"
    }
   ],
   "source": [
    "df.columns"
   ]
  },
  {
   "cell_type": "markdown",
   "id": "3def9317",
   "metadata": {
    "papermill": {
     "duration": 0.03257,
     "end_time": "2023-03-26T01:39:18.066942",
     "exception": false,
     "start_time": "2023-03-26T01:39:18.034372",
     "status": "completed"
    },
    "tags": []
   },
   "source": [
    "This dataframe will show including which services will lead to the most revenue increase."
   ]
  },
  {
   "cell_type": "code",
   "execution_count": 51,
   "id": "6d5ad1c7",
   "metadata": {
    "execution": {
     "iopub.execute_input": "2023-03-26T01:39:18.136236Z",
     "iopub.status.busy": "2023-03-26T01:39:18.135288Z",
     "iopub.status.idle": "2023-03-26T01:39:18.227780Z",
     "shell.execute_reply": "2023-03-26T01:39:18.226962Z"
    },
    "papermill": {
     "duration": 0.129066,
     "end_time": "2023-03-26T01:39:18.229929",
     "exception": false,
     "start_time": "2023-03-26T01:39:18.100863",
     "status": "completed"
    },
    "tags": []
   },
   "outputs": [
    {
     "data": {
      "text/html": [
       "<div>\n",
       "<style scoped>\n",
       "    .dataframe tbody tr th:only-of-type {\n",
       "        vertical-align: middle;\n",
       "    }\n",
       "\n",
       "    .dataframe tbody tr th {\n",
       "        vertical-align: top;\n",
       "    }\n",
       "\n",
       "    .dataframe thead th {\n",
       "        text-align: right;\n",
       "    }\n",
       "</style>\n",
       "<table border=\"1\" class=\"dataframe\">\n",
       "  <thead>\n",
       "    <tr style=\"text-align: right;\">\n",
       "      <th></th>\n",
       "      <th>Service</th>\n",
       "      <th>Profit</th>\n",
       "    </tr>\n",
       "  </thead>\n",
       "  <tbody>\n",
       "    <tr>\n",
       "      <th>8</th>\n",
       "      <td>InternetService_DSL</td>\n",
       "      <td>57566.10</td>\n",
       "    </tr>\n",
       "    <tr>\n",
       "      <th>2</th>\n",
       "      <td>OnlineSecurity</td>\n",
       "      <td>56028.80</td>\n",
       "    </tr>\n",
       "    <tr>\n",
       "      <th>5</th>\n",
       "      <td>TechSupport</td>\n",
       "      <td>53975.85</td>\n",
       "    </tr>\n",
       "    <tr>\n",
       "      <th>4</th>\n",
       "      <td>DeviceProtection</td>\n",
       "      <td>45295.55</td>\n",
       "    </tr>\n",
       "    <tr>\n",
       "      <th>3</th>\n",
       "      <td>OnlineBackup</td>\n",
       "      <td>37701.95</td>\n",
       "    </tr>\n",
       "    <tr>\n",
       "      <th>7</th>\n",
       "      <td>StreamingMovies</td>\n",
       "      <td>37107.20</td>\n",
       "    </tr>\n",
       "    <tr>\n",
       "      <th>6</th>\n",
       "      <td>StreamingTV</td>\n",
       "      <td>35911.50</td>\n",
       "    </tr>\n",
       "    <tr>\n",
       "      <th>1</th>\n",
       "      <td>MultipleLines</td>\n",
       "      <td>34987.35</td>\n",
       "    </tr>\n",
       "    <tr>\n",
       "      <th>9</th>\n",
       "      <td>InternetService_Fiber optic</td>\n",
       "      <td>24830.80</td>\n",
       "    </tr>\n",
       "    <tr>\n",
       "      <th>0</th>\n",
       "      <td>PhoneService</td>\n",
       "      <td>6380.75</td>\n",
       "    </tr>\n",
       "  </tbody>\n",
       "</table>\n",
       "</div>"
      ],
      "text/plain": [
       "                       Service    Profit\n",
       "8          InternetService_DSL  57566.10\n",
       "2               OnlineSecurity  56028.80\n",
       "5                  TechSupport  53975.85\n",
       "4             DeviceProtection  45295.55\n",
       "3                 OnlineBackup  37701.95\n",
       "7              StreamingMovies  37107.20\n",
       "6                  StreamingTV  35911.50\n",
       "1                MultipleLines  34987.35\n",
       "9  InternetService_Fiber optic  24830.80\n",
       "0                 PhoneService   6380.75"
      ]
     },
     "execution_count": 51,
     "metadata": {},
     "output_type": "execute_result"
    }
   ],
   "source": [
    "services = ['PhoneService','MultipleLines','OnlineSecurity','OnlineBackup','DeviceProtection','TechSupport','StreamingTV','StreamingMovies','InternetService_DSL','InternetService_Fiber optic']\n",
    "revenue = pd.DataFrame(columns=['Service','Profit'])\n",
    "for i in services:\n",
    "    revenue.loc[len(revenue.index)] = [i,show_profit_of_tactic(df,i)] \n",
    "revenue.sort_values('Profit',ascending=False)"
   ]
  },
  {
   "cell_type": "markdown",
   "id": "e1f8570f",
   "metadata": {
    "papermill": {
     "duration": 0.043032,
     "end_time": "2023-03-26T01:39:18.316385",
     "exception": false,
     "start_time": "2023-03-26T01:39:18.273353",
     "status": "completed"
    },
    "tags": []
   },
   "source": [
    "Adding online security leads to the highest profit, followed by DSL internet service, tech support, and device protection."
   ]
  },
  {
   "cell_type": "code",
   "execution_count": 52,
   "id": "c9416bc3",
   "metadata": {
    "execution": {
     "iopub.execute_input": "2023-03-26T01:39:18.386688Z",
     "iopub.status.busy": "2023-03-26T01:39:18.386340Z",
     "iopub.status.idle": "2023-03-26T01:39:18.393055Z",
     "shell.execute_reply": "2023-03-26T01:39:18.392109Z"
    },
    "papermill": {
     "duration": 0.04316,
     "end_time": "2023-03-26T01:39:18.395072",
     "exception": false,
     "start_time": "2023-03-26T01:39:18.351912",
     "status": "completed"
    },
    "tags": []
   },
   "outputs": [
    {
     "data": {
      "text/plain": [
       "389785.8500000003"
      ]
     },
     "execution_count": 52,
     "metadata": {},
     "output_type": "execute_result"
    }
   ],
   "source": [
    "sum(revenue.Profit)"
   ]
  },
  {
   "cell_type": "markdown",
   "id": "85cca0fe",
   "metadata": {
    "papermill": {
     "duration": 0.032523,
     "end_time": "2023-03-26T01:39:18.460144",
     "exception": false,
     "start_time": "2023-03-26T01:39:18.427621",
     "status": "completed"
    },
    "tags": []
   },
   "source": [
    "Including all of the services leads the company to increase their revenue by $397,047."
   ]
  }
 ],
 "metadata": {
  "kernelspec": {
   "display_name": "Python 3",
   "language": "python",
   "name": "python3"
  },
  "language_info": {
   "codemirror_mode": {
    "name": "ipython",
    "version": 3
   },
   "file_extension": ".py",
   "mimetype": "text/x-python",
   "name": "python",
   "nbconvert_exporter": "python",
   "pygments_lexer": "ipython3",
   "version": "3.7.12"
  },
  "papermill": {
   "default_parameters": {},
   "duration": 85.074093,
   "end_time": "2023-03-26T01:39:19.315743",
   "environment_variables": {},
   "exception": null,
   "input_path": "__notebook__.ipynb",
   "output_path": "__notebook__.ipynb",
   "parameters": {},
   "start_time": "2023-03-26T01:37:54.241650",
   "version": "2.4.0"
  }
 },
 "nbformat": 4,
 "nbformat_minor": 5
}
